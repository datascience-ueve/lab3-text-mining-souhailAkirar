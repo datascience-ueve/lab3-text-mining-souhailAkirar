{
 "cells": [
  {
   "cell_type": "code",
   "execution_count": 1,
   "metadata": {},
   "outputs": [
    {
     "name": "stderr",
     "output_type": "stream",
     "text": [
      "[nltk_data] Downloading package stopwords to\n",
      "[nltk_data]     /Users/souhailakirar/nltk_data...\n",
      "[nltk_data]   Package stopwords is already up-to-date!\n",
      "Using TensorFlow backend.\n"
     ]
    }
   ],
   "source": [
    "import warnings\n",
    "warnings.filterwarnings(\"ignore\") \n",
    "\n",
    "import numpy as np\n",
    "import pandas as pd\n",
    "\n",
    "import nltk    #Natural language processing tool-kit\n",
    "nltk.download('stopwords')\n",
    "  \n",
    "from nltk.corpus import stopwords                   #Stopwords corpus\n",
    "\n",
    "from keras.datasets import imdb\n",
    "import matplotlib.pyplot as plt\n",
    "%matplotlib inline\n",
    "import seaborn as sns\n",
    "\n",
    "from sklearn.feature_extraction.text import CountVectorizer\n",
    "from sklearn.feature_extraction.text import TfidfVectorizer, TfidfTransformer\n",
    "from sklearn.neighbors import KNeighborsClassifier\n",
    "from sklearn.naive_bayes import MultinomialNB, GaussianNB\n",
    "from sklearn.linear_model import SGDClassifier\n",
    "from sklearn.metrics import accuracy_score"
   ]
  },
  {
   "cell_type": "raw",
   "metadata": {},
   "source": []
  },
  {
   "cell_type": "raw",
   "metadata": {},
   "source": []
  },
  {
   "cell_type": "markdown",
   "metadata": {},
   "source": [
    "## Import des données"
   ]
  },
  {
   "cell_type": "code",
   "execution_count": 14,
   "metadata": {},
   "outputs": [
    {
     "name": "stdout",
     "output_type": "stream",
     "text": [
      "shape (747, 2)\n"
     ]
    }
   ],
   "source": [
    "# filename = \"./sentiment_labelled_sentences/\"\n",
    "\n",
    "df = pd.read_csv('imdb_labelled.txt', sep=\"\\t\")\n",
    "df.columns = [\"sentence\", \"label\"]\n",
    "\n",
    "print(\"shape\", df.shape)"
   ]
  },
  {
   "cell_type": "code",
   "execution_count": 3,
   "metadata": {},
   "outputs": [
    {
     "data": {
      "text/html": [
       "<div>\n",
       "<style scoped>\n",
       "    .dataframe tbody tr th:only-of-type {\n",
       "        vertical-align: middle;\n",
       "    }\n",
       "\n",
       "    .dataframe tbody tr th {\n",
       "        vertical-align: top;\n",
       "    }\n",
       "\n",
       "    .dataframe thead th {\n",
       "        text-align: right;\n",
       "    }\n",
       "</style>\n",
       "<table border=\"1\" class=\"dataframe\">\n",
       "  <thead>\n",
       "    <tr style=\"text-align: right;\">\n",
       "      <th></th>\n",
       "      <th>sentence</th>\n",
       "      <th>label</th>\n",
       "    </tr>\n",
       "  </thead>\n",
       "  <tbody>\n",
       "    <tr>\n",
       "      <th>0</th>\n",
       "      <td>Not sure who was more lost - the flat characte...</td>\n",
       "      <td>0</td>\n",
       "    </tr>\n",
       "    <tr>\n",
       "      <th>1</th>\n",
       "      <td>Attempting artiness with black &amp; white and cle...</td>\n",
       "      <td>0</td>\n",
       "    </tr>\n",
       "    <tr>\n",
       "      <th>2</th>\n",
       "      <td>Very little music or anything to speak of.</td>\n",
       "      <td>0</td>\n",
       "    </tr>\n",
       "    <tr>\n",
       "      <th>3</th>\n",
       "      <td>The best scene in the movie was when Gerardo i...</td>\n",
       "      <td>1</td>\n",
       "    </tr>\n",
       "    <tr>\n",
       "      <th>4</th>\n",
       "      <td>The rest of the movie lacks art, charm, meanin...</td>\n",
       "      <td>0</td>\n",
       "    </tr>\n",
       "  </tbody>\n",
       "</table>\n",
       "</div>"
      ],
      "text/plain": [
       "                                            sentence  label\n",
       "0  Not sure who was more lost - the flat characte...      0\n",
       "1  Attempting artiness with black & white and cle...      0\n",
       "2       Very little music or anything to speak of.        0\n",
       "3  The best scene in the movie was when Gerardo i...      1\n",
       "4  The rest of the movie lacks art, charm, meanin...      0"
      ]
     },
     "execution_count": 3,
     "metadata": {},
     "output_type": "execute_result"
    }
   ],
   "source": [
    "df.head()"
   ]
  },
  {
   "cell_type": "code",
   "execution_count": 4,
   "metadata": {},
   "outputs": [
    {
     "data": {
      "text/plain": [
       "<matplotlib.axes._subplots.AxesSubplot at 0x1a2db84a20>"
      ]
     },
     "execution_count": 4,
     "metadata": {},
     "output_type": "execute_result"
    },
    {
     "data": {
      "image/png": "[encoded data removed]",
      "text/plain": [
       "<Figure size 432x288 with 1 Axes>"
      ]
     },
     "metadata": {
      "needs_background": "light"
     },
     "output_type": "display_data"
    }
   ],
   "source": [
    "sns.barplot(np.unique(df['label']),df.groupby('label').count().values[:,0])"
   ]
  },
  {
   "cell_type": "markdown",
   "metadata": {},
   "source": [
    "## Bag of words "
   ]
  },
  {
   "cell_type": "markdown",
   "metadata": {},
   "source": [
    "### Sur un sous-jeu de données"
   ]
  },
  {
   "cell_type": "code",
   "execution_count": 15,
   "metadata": {},
   "outputs": [],
   "source": [
    "X_sub = df['sentence'][0:10]"
   ]
  },
  {
   "cell_type": "markdown",
   "metadata": {},
   "source": [
    "On crée un dictionnaire, puis on compte le nombre d'apparition des mots du dictionnaire dans chaque texte (critique)"
   ]
  },
  {
   "cell_type": "code",
   "execution_count": 6,
   "metadata": {},
   "outputs": [
    {
     "name": "stdout",
     "output_type": "stream",
     "text": [
      "['about', 'acting', 'adorable', 'almost', 'and', 'angles', 'anything', 'art', 'artiness', 'as', 'attempting', 'audience', 'baby', 'became', 'because', 'best', 'bit', 'black', 'buffet', 'camera', 'casting', 'characters', 'charm', 'clever', 'disappointed', 'effort', 'emptiness', 'empty', 'even', 'existent', 'find', 'flat', 'for', 'gerardo', 'good', 'guess', 'half', 'head', 'his', 'hours', 'if', 'in', 'is', 'it', 'jimmy', 'keeps', 'kids', 'lacks', 'lines', 'little', 'lost', 'loved', 'meaning', 'messages', 'more', 'movie', 'music', 'nearly', 'non', 'not', 'of', 'or', 'out', 'owls', 'plot', 'poor', 'predictable', 'rest', 'ridiculous', 'running', 'saw', 'scene', 'science', 'song', 'speak', 'sure', 'teacher', 'that', 'the', 'those', 'thought', 'through', 'to', 'today', 'trying', 'two', 'very', 'walked', 'was', 'wasted', 'were', 'when', 'white', 'who', 'whom', 'with', 'works']\n"
     ]
    }
   ],
   "source": [
    "count_vect = CountVectorizer()\n",
    "X_sub_counts = count_vect.fit_transform(X_sub)\n",
    "dictionary_sub   = count_vect.get_feature_names()\n",
    "print(dictionary_sub)"
   ]
  },
  {
   "cell_type": "code",
   "execution_count": 7,
   "metadata": {},
   "outputs": [
    {
     "name": "stdout",
     "output_type": "stream",
     "text": [
      "93\n"
     ]
    }
   ],
   "source": [
    "print(count_vect.vocabulary_.get(u'who'))"
   ]
  },
  {
   "cell_type": "code",
   "execution_count": 8,
   "metadata": {},
   "outputs": [
    {
     "name": "stdout",
     "output_type": "stream",
     "text": [
      "(10, 97)\n",
      "  (0, 62)\t1\n",
      "  (0, 87)\t1\n",
      "  (0, 94)\t1\n",
      "  (0, 60)\t1\n",
      "  (0, 36)\t1\n",
      "  (0, 57)\t1\n",
      "  (0, 11)\t1\n",
      "  (0, 61)\t1\n",
      "  (0, 21)\t1\n",
      "  (0, 31)\t1\n",
      "  (0, 78)\t2\n",
      "  (0, 50)\t1\n",
      "  (0, 54)\t1\n",
      "  (0, 88)\t1\n",
      "  (0, 93)\t1\n",
      "  (0, 75)\t1\n",
      "  (0, 59)\t1\n",
      "<class 'scipy.sparse.csr.csr_matrix'>\n"
     ]
    }
   ],
   "source": [
    "print(X_sub_counts.shape) \n",
    "print(X_sub_counts[0])\n",
    "print(type(X_sub_counts))"
   ]
  },
  {
   "cell_type": "code",
   "execution_count": 9,
   "metadata": {},
   "outputs": [
    {
     "name": "stdout",
     "output_type": "stream",
     "text": [
      "[0 0 0 0 0 0 0 0 0 0 0 1 0 0 0 0 0 0 0 0 0 1 0 0 0 0 0 0 0 0 0 1 0 0 0 0 1\n",
      " 0 0 0 0 0 0 0 0 0 0 0 0 0 1 0 0 0 1 0 0 1 0 1 1 1 1 0 0 0 0 0 0 0 0 0 0 0\n",
      " 0 1 0 0 2 0 0 0 0 0 0 0 0 1 1 0 0 0 0 1 1 0 0]\n"
     ]
    }
   ],
   "source": [
    "print(X_sub_counts.toarray()[0,:])"
   ]
  },
  {
   "cell_type": "code",
   "execution_count": 10,
   "metadata": {
    "collapsed": true
   },
   "outputs": [],
   "source": [
    "word_counts = pd.DataFrame(X_sub_counts.toarray(),columns = dictionary_sub)\n",
    "word_total_counts = pd.DataFrame()\n",
    "word_total_counts['count'] = word_counts.sum(axis=0)\n",
    "word_total_counts['word'] = dictionary_sub"
   ]
  },
  {
   "cell_type": "code",
   "execution_count": 11,
   "metadata": {
    "collapsed": true
   },
   "outputs": [],
   "source": [
    "word_total_counts_sorted_top  = word_total_counts.sort_values(by=\"count\",ascending = False).iloc[0:20]"
   ]
  },
  {
   "cell_type": "code",
   "execution_count": 12,
   "metadata": {},
   "outputs": [
    {
     "data": {
      "image/png": "[encoded data removed]",
      "text/plain": [
       "<Figure size 1080x576 with 1 Axes>"
      ]
     },
     "metadata": {
      "needs_background": "light"
     },
     "output_type": "display_data"
    }
   ],
   "source": [
    "plt.figure(figsize=(15,8))\n",
    "sns.barplot(x = word_total_counts_sorted_top.index,y=word_total_counts_sorted_top['count'])\n",
    "plt.xticks(rotation=90,fontsize=10)\n",
    "plt.show()"
   ]
  },
  {
   "cell_type": "markdown",
   "metadata": {},
   "source": [
    "On définit une fonction qui prend en encapsule ce qui précède"
   ]
  },
  {
   "cell_type": "code",
   "execution_count": 10,
   "metadata": {},
   "outputs": [],
   "source": [
    "def most_frequent_words(count_vect,data):    \n",
    "    data_counts = count_vect.fit_transform(data)\n",
    "    dictionary   = count_vect.get_feature_names()\n",
    "    print(\"Taille du dictionnaire : \",len(dictionary))\n",
    "    word_counts = pd.DataFrame(data_counts.toarray(),columns = dictionary)\n",
    "    word_total_counts = pd.DataFrame()\n",
    "    word_total_counts['count'] = word_counts.sum(axis=0)\n",
    "    word_total_counts['word'] = dictionary\n",
    "    word_total_counts_sorted_top  = word_total_counts.sort_values(by=\"count\",ascending = False).iloc[0:20]\n",
    "    plt.figure(figsize=(15,8))\n",
    "    sns.barplot(x = word_total_counts_sorted_top.index,y=word_total_counts_sorted_top['count'])\n",
    "    plt.xticks(rotation=90,fontsize=10)\n",
    "    plt.show()\n",
    "    return {'data_counts' : data_counts, 'word_total_counts' :word_total_counts, 'dictionary' : dictionary}"
   ]
  },
  {
   "cell_type": "code",
   "execution_count": 14,
   "metadata": {
    "collapsed": true
   },
   "outputs": [],
   "source": [
    "count_vect = CountVectorizer()\n",
    "X_sub_counts = count_vect.fit_transform(X_sub)"
   ]
  },
  {
   "cell_type": "code",
   "execution_count": 15,
   "metadata": {},
   "outputs": [
    {
     "name": "stdout",
     "output_type": "stream",
     "text": [
      "Taille du dictionnaire :  97\n"
     ]
    },
    {
     "data": {
      "image/png": "[encoded data removed]",
      "text/plain": [
       "<Figure size 1080x576 with 1 Axes>"
      ]
     },
     "metadata": {
      "needs_background": "light"
     },
     "output_type": "display_data"
    }
   ],
   "source": [
    "most_frequent_words_sub = most_frequent_words(count_vect,X_sub)"
   ]
  },
  {
   "cell_type": "code",
   "execution_count": null,
   "metadata": {
    "collapsed": true
   },
   "outputs": [],
   "source": []
  },
  {
   "cell_type": "markdown",
   "metadata": {},
   "source": [
    "### Passage aux données complètes"
   ]
  },
  {
   "cell_type": "code",
   "execution_count": 16,
   "metadata": {},
   "outputs": [],
   "source": [
    "X = df['sentence']"
   ]
  },
  {
   "cell_type": "code",
   "execution_count": 17,
   "metadata": {
    "scrolled": true
   },
   "outputs": [
    {
     "name": "stdout",
     "output_type": "stream",
     "text": [
      "Taille du dictionnaire :  3044\n"
     ]
    },
    {
     "data": {
      "image/png": "[encoded data removed]",
      "text/plain": [
       "<Figure size 1080x576 with 1 Axes>"
      ]
     },
     "metadata": {
      "needs_background": "light"
     },
     "output_type": "display_data"
    }
   ],
   "source": [
    "most_frequent_words_tot = most_frequent_words(count_vect,X)"
   ]
  },
  {
   "cell_type": "markdown",
   "metadata": {},
   "source": [
    "Quels problèmes voyez-vous ?"
   ]
  },
  {
   "cell_type": "markdown",
   "metadata": {},
   "source": [
    "L'ensemble de données ci-dessus est un ensemble de données complet et contient tous les mots. Il est évident que les mots qui se rallient à la préposition sont probablement les mots les plus répétitifs. Par conséquent, pour trouver les mots les plus fréquents et les plus importants, nous devrions supprimer ces mots sans importance. Ces mots sont appelés \"mots vides\"( mots non significatifs)."
   ]
  },
  {
   "cell_type": "markdown",
   "metadata": {},
   "source": [
    "## Préparation des données"
   ]
  },
  {
   "cell_type": "markdown",
   "metadata": {},
   "source": [
    "### Miniscules UTF-8 sans ponctuation"
   ]
  },
  {
   "cell_type": "markdown",
   "metadata": {},
   "source": [
    "Toujours vérifier que les mots sont en minuscule, qu'il n'a pas de signe de ponctuation, etc"
   ]
  },
  {
   "cell_type": "markdown",
   "metadata": {},
   "source": [
    "### Stopwords"
   ]
  },
  {
   "cell_type": "code",
   "execution_count": 8,
   "metadata": {},
   "outputs": [
    {
     "name": "stdout",
     "output_type": "stream",
     "text": [
      "{'isn', 'when', 'again', 'm', 'ain', 'into', 'himself', 'our', 'this', 'for', \"you're\", 'it', 'myself', 'o', 'her', \"needn't\", 'under', 'those', 'him', 'why', 'weren', 'off', 'nor', 'hadn', 'my', 'same', 's', 'further', 'being', 'shan', 'very', 'haven', 'should', \"that'll\", 'than', 'y', 'your', \"mightn't\", 'after', 'am', 'couldn', 'to', 'below', 'mightn', \"you'd\", 'not', 'which', 'down', 't', 'up', 'have', 'above', 'then', \"should've\", 'out', 'against', 'its', 'wouldn', 'such', 'if', \"you've\", 'both', 'all', 'any', \"you'll\", 'she', 'needn', 'having', \"it's\", 'between', \"mustn't\", 'so', \"shan't\", 'd', \"wouldn't\", 'we', 'he', 'there', \"isn't\", 'once', \"weren't\", 'do', 'herself', 'or', \"wasn't\", 'these', 'through', 'each', 'can', 'yourselves', 'just', 'more', 'a', 'ours', \"didn't\", \"haven't\", 'had', 'them', 'while', 'how', 'over', 'hasn', \"shouldn't\", 'wasn', 'ourselves', 'because', 'shouldn', 'until', 'here', 'his', \"aren't\", 'me', 'an', 'and', 'be', 'from', 'yourself', 'the', 'but', 'don', 'their', 'theirs', \"doesn't\", \"hadn't\", 'whom', 'mustn', 'at', 'was', \"hasn't\", 'doesn', 'is', 'as', 'has', 'didn', 'doing', 'they', 'no', 'will', 'hers', 'been', 'of', 'now', \"won't\", 'won', 'few', 'yours', 'll', 're', 'are', 'that', \"couldn't\", 'on', 'does', 'some', 'most', 'by', 'were', 'you', 've', 'who', 'too', 'before', 'did', 'what', 'during', 'themselves', 'aren', 'i', \"she's\", 'own', 'with', 'ma', 'about', 'where', 'other', 'itself', \"don't\", 'in', 'only'}\n"
     ]
    }
   ],
   "source": [
    "stop = set(stopwords.words('english')) \n",
    "print(stop)"
   ]
  },
  {
   "cell_type": "markdown",
   "metadata": {},
   "source": [
    "Ci-dessus se trouve la liste de tous les mots vides que nous allons supprimer de nos données."
   ]
  },
  {
   "cell_type": "markdown",
   "metadata": {},
   "source": []
  },
  {
   "cell_type": "code",
   "execution_count": 19,
   "metadata": {
    "collapsed": true
   },
   "outputs": [],
   "source": [
    "stop.update({'movie','film'})"
   ]
  },
  {
   "cell_type": "markdown",
   "metadata": {},
   "source": [
    "Mis à jour la liste en fonction du contexte de notre jeu de données."
   ]
  },
  {
   "cell_type": "code",
   "execution_count": 17,
   "metadata": {},
   "outputs": [
    {
     "name": "stdout",
     "output_type": "stream",
     "text": [
      "Taille du dictionnaire :  2913\n"
     ]
    },
    {
     "data": {
      "image/png": "[encoded data removed]",
      "text/plain": [
       "<Figure size 1080x576 with 1 Axes>"
      ]
     },
     "metadata": {
      "needs_background": "light"
     },
     "output_type": "display_data"
    }
   ],
   "source": [
    "count_vect_sw = CountVectorizer(stop_words=stop)\n",
    "most_frequent_words_sw = most_frequent_words(count_vect_sw,X)"
   ]
  },
  {
   "cell_type": "markdown",
   "metadata": {},
   "source": [
    "Maintenant, nous pouvons voir que les mots les plus fréquents semblent importants et qu'il n'y a pas de mots vides"
   ]
  },
  {
   "cell_type": "markdown",
   "metadata": {},
   "source": [
    "### Visualisation du corpus"
   ]
  },
  {
   "cell_type": "code",
   "execution_count": 21,
   "metadata": {
    "collapsed": true
   },
   "outputs": [],
   "source": [
    "most_frequent = np.array(most_frequent_words_sw['data_counts'].toarray())\n",
    "hist = most_frequent / most_frequent.sum(axis=1)[:,None]"
   ]
  },
  {
   "cell_type": "code",
   "execution_count": 22,
   "metadata": {},
   "outputs": [
    {
     "data": {
      "text/plain": [
       "array([[0. , 0. , 0. , ..., 0. , 0. , 0. ],\n",
       "       [0. , 0. , 0. , ..., 0. , 0. , 0. ],\n",
       "       [0. , 0. , 0. , ..., 0. , 0. , 0. ],\n",
       "       ...,\n",
       "       [0.4, 0. , 0. , ..., 0. , 0. , 0. ],\n",
       "       [0. , 0. , 0. , ..., 0. , 0. , 0. ],\n",
       "       [0. , 0. , 0. , ..., 0. , 0. , 0. ]])"
      ]
     },
     "execution_count": 22,
     "metadata": {},
     "output_type": "execute_result"
    }
   ],
   "source": [
    "hist[np.argsort(df['label']),:]"
   ]
  },
  {
   "cell_type": "code",
   "execution_count": 23,
   "metadata": {},
   "outputs": [
    {
     "data": {
      "text/plain": [
       "<matplotlib.image.AxesImage at 0x1a30b10390>"
      ]
     },
     "execution_count": 23,
     "metadata": {},
     "output_type": "execute_result"
    },
    {
     "data": {
      "image/png": "[encoded data removed]",
      "text/plain": [
       "<Figure size 1080x576 with 1 Axes>"
      ]
     },
     "metadata": {
      "needs_background": "light"
     },
     "output_type": "display_data"
    }
   ],
   "source": [
    "plt.figure(figsize=(15,8))\n",
    "plt.imshow(hist[np.argsort(df['label']),:])\n",
    "plt.colorbar()"
   ]
  },
  {
   "cell_type": "markdown",
   "metadata": {},
   "source": [
    "### Avec TF_IDF"
   ]
  },
  {
   "cell_type": "code",
   "execution_count": 5,
   "metadata": {},
   "outputs": [
    {
     "data": {
      "text/plain": [
       "TfidfTransformer(norm='l2', smooth_idf=False, sublinear_tf=False,\n",
       "         use_idf=True)"
      ]
     },
     "execution_count": 5,
     "metadata": {},
     "output_type": "execute_result"
    }
   ],
   "source": [
    "transformer = TfidfTransformer(smooth_idf=False)\n",
    "transformer"
   ]
  },
  {
   "cell_type": "markdown",
   "metadata": {},
   "source": [
    "Convertir les mots en vecteur"
   ]
  },
  {
   "cell_type": "code",
   "execution_count": 18,
   "metadata": {},
   "outputs": [],
   "source": [
    "tf_idf_transf = transformer.fit_transform(most_frequent_words_sw['data_counts'])"
   ]
  },
  {
   "cell_type": "code",
   "execution_count": 26,
   "metadata": {},
   "outputs": [
    {
     "data": {
      "text/plain": [
       "<matplotlib.colorbar.Colorbar at 0x1a3601e940>"
      ]
     },
     "execution_count": 26,
     "metadata": {},
     "output_type": "execute_result"
    },
    {
     "data": {
      "image/png": "[encoded data removed]",
      "text/plain": [
       "<Figure size 1080x576 with 2 Axes>"
      ]
     },
     "metadata": {
      "needs_background": "light"
     },
     "output_type": "display_data"
    }
   ],
   "source": [
    "plt.figure(figsize=(15,8))\n",
    "plt.imshow(tf_idf_transf.toarray()[np.argsort(df['label']),:])\n",
    "plt.colorbar()"
   ]
  },
  {
   "cell_type": "markdown",
   "metadata": {},
   "source": [
    "## Apprentissage supervisé"
   ]
  },
  {
   "cell_type": "markdown",
   "metadata": {},
   "source": [
    "### Sur les counts"
   ]
  },
  {
   "cell_type": "markdown",
   "metadata": {},
   "source": [
    "Nous allons ensuite appliquer des algorithmes de classification par ML pour classer le jeu de données de révision imdb. "
   ]
  },
  {
   "cell_type": "code",
   "execution_count": 27,
   "metadata": {},
   "outputs": [
    {
     "data": {
      "text/plain": [
       "0.9665327978580991"
      ]
     },
     "execution_count": 27,
     "metadata": {},
     "output_type": "execute_result"
    }
   ],
   "source": [
    "NB_counts = MultinomialNB()\n",
    "NB_counts.fit(X=most_frequent_words_sw['data_counts'],y=df['label'])\n",
    "accuracy_score(NB_counts.predict(most_frequent_words_sw['data_counts']),df['label'])"
   ]
  },
  {
   "cell_type": "markdown",
   "metadata": {},
   "source": [
    "### Sur le TF-IDF"
   ]
  },
  {
   "cell_type": "code",
   "execution_count": 28,
   "metadata": {},
   "outputs": [
    {
     "data": {
      "text/plain": [
       "0.9665327978580991"
      ]
     },
     "execution_count": 28,
     "metadata": {},
     "output_type": "execute_result"
    }
   ],
   "source": [
    "NB_tfidf = GaussianNB()\n",
    "NB_tfidf.fit(X=tf_idf_transf.toarray(),y=df['label'])\n",
    "accuracy_score(NB_tfidf.predict(tf_idf_transf.toarray()),df['label'])"
   ]
  },
  {
   "cell_type": "code",
   "execution_count": 29,
   "metadata": {
    "collapsed": true
   },
   "outputs": [],
   "source": [
    "df['prediction_counts'] = NB_counts.predict(most_frequent_words_sw['data_counts'])"
   ]
  },
  {
   "cell_type": "code",
   "execution_count": 30,
   "metadata": {
    "collapsed": true
   },
   "outputs": [],
   "source": [
    "\n",
    "df['prediction_tfidf'] = NB_tfidf.predict(tf_idf_transf.toarray())"
   ]
  },
  {
   "cell_type": "code",
   "execution_count": 31,
   "metadata": {},
   "outputs": [
    {
     "data": {
      "text/html": [
       "<div>\n",
       "<style scoped>\n",
       "    .dataframe tbody tr th:only-of-type {\n",
       "        vertical-align: middle;\n",
       "    }\n",
       "\n",
       "    .dataframe tbody tr th {\n",
       "        vertical-align: top;\n",
       "    }\n",
       "\n",
       "    .dataframe thead th {\n",
       "        text-align: right;\n",
       "    }\n",
       "</style>\n",
       "<table border=\"1\" class=\"dataframe\">\n",
       "  <thead>\n",
       "    <tr style=\"text-align: right;\">\n",
       "      <th></th>\n",
       "      <th>sentence</th>\n",
       "      <th>label</th>\n",
       "      <th>prediction_counts</th>\n",
       "      <th>prediction_tfidf</th>\n",
       "    </tr>\n",
       "  </thead>\n",
       "  <tbody>\n",
       "    <tr>\n",
       "      <th>23</th>\n",
       "      <td>Give this one a look.</td>\n",
       "      <td>1</td>\n",
       "      <td>1</td>\n",
       "      <td>0</td>\n",
       "    </tr>\n",
       "    <tr>\n",
       "      <th>38</th>\n",
       "      <td>I don't think you will be disappointed.</td>\n",
       "      <td>1</td>\n",
       "      <td>0</td>\n",
       "      <td>0</td>\n",
       "    </tr>\n",
       "    <tr>\n",
       "      <th>58</th>\n",
       "      <td>A great film by a great director.</td>\n",
       "      <td>1</td>\n",
       "      <td>1</td>\n",
       "      <td>0</td>\n",
       "    </tr>\n",
       "    <tr>\n",
       "      <th>63</th>\n",
       "      <td>10/10</td>\n",
       "      <td>1</td>\n",
       "      <td>1</td>\n",
       "      <td>0</td>\n",
       "    </tr>\n",
       "    <tr>\n",
       "      <th>163</th>\n",
       "      <td>Everything from acting to cinematography was s...</td>\n",
       "      <td>1</td>\n",
       "      <td>1</td>\n",
       "      <td>0</td>\n",
       "    </tr>\n",
       "    <tr>\n",
       "      <th>250</th>\n",
       "      <td>I won't say any more - I don't like spoilers, ...</td>\n",
       "      <td>1</td>\n",
       "      <td>0</td>\n",
       "      <td>0</td>\n",
       "    </tr>\n",
       "    <tr>\n",
       "      <th>293</th>\n",
       "      <td>But this movie really got to me.</td>\n",
       "      <td>1</td>\n",
       "      <td>1</td>\n",
       "      <td>0</td>\n",
       "    </tr>\n",
       "    <tr>\n",
       "      <th>294</th>\n",
       "      <td>See it.</td>\n",
       "      <td>1</td>\n",
       "      <td>1</td>\n",
       "      <td>0</td>\n",
       "    </tr>\n",
       "    <tr>\n",
       "      <th>312</th>\n",
       "      <td>The cast is good.</td>\n",
       "      <td>1</td>\n",
       "      <td>1</td>\n",
       "      <td>0</td>\n",
       "    </tr>\n",
       "    <tr>\n",
       "      <th>332</th>\n",
       "      <td>the cast was great.</td>\n",
       "      <td>1</td>\n",
       "      <td>1</td>\n",
       "      <td>0</td>\n",
       "    </tr>\n",
       "    <tr>\n",
       "      <th>414</th>\n",
       "      <td>Go watch it!</td>\n",
       "      <td>1</td>\n",
       "      <td>1</td>\n",
       "      <td>0</td>\n",
       "    </tr>\n",
       "    <tr>\n",
       "      <th>433</th>\n",
       "      <td>I'll give this film 10 out of 10!</td>\n",
       "      <td>1</td>\n",
       "      <td>1</td>\n",
       "      <td>0</td>\n",
       "    </tr>\n",
       "    <tr>\n",
       "      <th>455</th>\n",
       "      <td>There still are good actors around!</td>\n",
       "      <td>1</td>\n",
       "      <td>1</td>\n",
       "      <td>0</td>\n",
       "    </tr>\n",
       "    <tr>\n",
       "      <th>478</th>\n",
       "      <td>GO AND SEE IT!</td>\n",
       "      <td>1</td>\n",
       "      <td>1</td>\n",
       "      <td>0</td>\n",
       "    </tr>\n",
       "    <tr>\n",
       "      <th>484</th>\n",
       "      <td>A good film by a great director!</td>\n",
       "      <td>1</td>\n",
       "      <td>1</td>\n",
       "      <td>0</td>\n",
       "    </tr>\n",
       "    <tr>\n",
       "      <th>487</th>\n",
       "      <td>This is just a great movie.</td>\n",
       "      <td>1</td>\n",
       "      <td>1</td>\n",
       "      <td>0</td>\n",
       "    </tr>\n",
       "    <tr>\n",
       "      <th>496</th>\n",
       "      <td>Highly recommended A+</td>\n",
       "      <td>1</td>\n",
       "      <td>1</td>\n",
       "      <td>0</td>\n",
       "    </tr>\n",
       "    <tr>\n",
       "      <th>541</th>\n",
       "      <td>I just saw this film and I recommend it.</td>\n",
       "      <td>1</td>\n",
       "      <td>1</td>\n",
       "      <td>0</td>\n",
       "    </tr>\n",
       "    <tr>\n",
       "      <th>589</th>\n",
       "      <td>10/10</td>\n",
       "      <td>1</td>\n",
       "      <td>1</td>\n",
       "      <td>0</td>\n",
       "    </tr>\n",
       "    <tr>\n",
       "      <th>595</th>\n",
       "      <td>Predictable, but not a bad watch.</td>\n",
       "      <td>1</td>\n",
       "      <td>0</td>\n",
       "      <td>0</td>\n",
       "    </tr>\n",
       "    <tr>\n",
       "      <th>632</th>\n",
       "      <td>See both films if you can.</td>\n",
       "      <td>1</td>\n",
       "      <td>1</td>\n",
       "      <td>0</td>\n",
       "    </tr>\n",
       "    <tr>\n",
       "      <th>690</th>\n",
       "      <td>Go rent it.</td>\n",
       "      <td>1</td>\n",
       "      <td>1</td>\n",
       "      <td>0</td>\n",
       "    </tr>\n",
       "    <tr>\n",
       "      <th>706</th>\n",
       "      <td>I have recommended it to friends.</td>\n",
       "      <td>1</td>\n",
       "      <td>1</td>\n",
       "      <td>0</td>\n",
       "    </tr>\n",
       "    <tr>\n",
       "      <th>728</th>\n",
       "      <td>I keep watching it over and over.</td>\n",
       "      <td>1</td>\n",
       "      <td>0</td>\n",
       "      <td>0</td>\n",
       "    </tr>\n",
       "    <tr>\n",
       "      <th>730</th>\n",
       "      <td>If you have not seen this movie, I definitely ...</td>\n",
       "      <td>1</td>\n",
       "      <td>1</td>\n",
       "      <td>0</td>\n",
       "    </tr>\n",
       "  </tbody>\n",
       "</table>\n",
       "</div>"
      ],
      "text/plain": [
       "                                              sentence  label  \\\n",
       "23                             Give this one a look.        1   \n",
       "38           I don't think you will be disappointed.        1   \n",
       "58                 A great film by a great director.        1   \n",
       "63                                             10/10        1   \n",
       "163  Everything from acting to cinematography was s...      1   \n",
       "250  I won't say any more - I don't like spoilers, ...      1   \n",
       "293                 But this movie really got to me.        1   \n",
       "294                                          See it.        1   \n",
       "312                                The cast is good.        1   \n",
       "332                              the cast was great.        1   \n",
       "414                                     Go watch it!        1   \n",
       "433                I'll give this film 10 out of 10!        1   \n",
       "455              There still are good actors around!        1   \n",
       "478                                   GO AND SEE IT!        1   \n",
       "484                 A good film by a great director!        1   \n",
       "487                      This is just a great movie.        1   \n",
       "496                            Highly recommended A+        1   \n",
       "541         I just saw this film and I recommend it.        1   \n",
       "589                                            10/10        1   \n",
       "595                Predictable, but not a bad watch.        1   \n",
       "632                       See both films if you can.        1   \n",
       "690                                      Go rent it.        1   \n",
       "706                I have recommended it to friends.        1   \n",
       "728                I keep watching it over and over.        1   \n",
       "730  If you have not seen this movie, I definitely ...      1   \n",
       "\n",
       "     prediction_counts  prediction_tfidf  \n",
       "23                   1                 0  \n",
       "38                   0                 0  \n",
       "58                   1                 0  \n",
       "63                   1                 0  \n",
       "163                  1                 0  \n",
       "250                  0                 0  \n",
       "293                  1                 0  \n",
       "294                  1                 0  \n",
       "312                  1                 0  \n",
       "332                  1                 0  \n",
       "414                  1                 0  \n",
       "433                  1                 0  \n",
       "455                  1                 0  \n",
       "478                  1                 0  \n",
       "484                  1                 0  \n",
       "487                  1                 0  \n",
       "496                  1                 0  \n",
       "541                  1                 0  \n",
       "589                  1                 0  \n",
       "595                  0                 0  \n",
       "632                  1                 0  \n",
       "690                  1                 0  \n",
       "706                  1                 0  \n",
       "728                  0                 0  \n",
       "730                  1                 0  "
      ]
     },
     "execution_count": 31,
     "metadata": {},
     "output_type": "execute_result"
    }
   ],
   "source": [
    "\n",
    "df[df['prediction_tfidf'] != df['label']]"
   ]
  },
  {
   "cell_type": "markdown",
   "metadata": {},
   "source": [
    "Ici il se trouve le tableau des incohérences entre les labels vraies et les labels prédites."
   ]
  },
  {
   "cell_type": "code",
   "execution_count": 32,
   "metadata": {},
   "outputs": [
    {
     "data": {
      "text/html": [
       "<div>\n",
       "<style scoped>\n",
       "    .dataframe tbody tr th:only-of-type {\n",
       "        vertical-align: middle;\n",
       "    }\n",
       "\n",
       "    .dataframe tbody tr th {\n",
       "        vertical-align: top;\n",
       "    }\n",
       "\n",
       "    .dataframe thead th {\n",
       "        text-align: right;\n",
       "    }\n",
       "</style>\n",
       "<table border=\"1\" class=\"dataframe\">\n",
       "  <thead>\n",
       "    <tr style=\"text-align: right;\">\n",
       "      <th></th>\n",
       "      <th>sentence</th>\n",
       "      <th>label</th>\n",
       "      <th>prediction_counts</th>\n",
       "      <th>prediction_tfidf</th>\n",
       "    </tr>\n",
       "  </thead>\n",
       "  <tbody>\n",
       "    <tr>\n",
       "      <th>20</th>\n",
       "      <td>If there was ever a movie that needed word-of-...</td>\n",
       "      <td>1</td>\n",
       "      <td>0</td>\n",
       "      <td>1</td>\n",
       "    </tr>\n",
       "    <tr>\n",
       "      <th>38</th>\n",
       "      <td>I don't think you will be disappointed.</td>\n",
       "      <td>1</td>\n",
       "      <td>0</td>\n",
       "      <td>0</td>\n",
       "    </tr>\n",
       "    <tr>\n",
       "      <th>49</th>\n",
       "      <td>The directing and the cinematography aren't qu...</td>\n",
       "      <td>0</td>\n",
       "      <td>1</td>\n",
       "      <td>0</td>\n",
       "    </tr>\n",
       "    <tr>\n",
       "      <th>76</th>\n",
       "      <td>I saw \"Mirrormask\" last night and it was an un...</td>\n",
       "      <td>0</td>\n",
       "      <td>1</td>\n",
       "      <td>0</td>\n",
       "    </tr>\n",
       "    <tr>\n",
       "      <th>123</th>\n",
       "      <td>Highly unrecommended.</td>\n",
       "      <td>0</td>\n",
       "      <td>1</td>\n",
       "      <td>0</td>\n",
       "    </tr>\n",
       "    <tr>\n",
       "      <th>131</th>\n",
       "      <td>There were too many close ups.</td>\n",
       "      <td>0</td>\n",
       "      <td>1</td>\n",
       "      <td>0</td>\n",
       "    </tr>\n",
       "    <tr>\n",
       "      <th>142</th>\n",
       "      <td>It even has its sweet moments.</td>\n",
       "      <td>1</td>\n",
       "      <td>0</td>\n",
       "      <td>1</td>\n",
       "    </tr>\n",
       "    <tr>\n",
       "      <th>175</th>\n",
       "      <td>If you see it, you should probably just leave ...</td>\n",
       "      <td>0</td>\n",
       "      <td>1</td>\n",
       "      <td>0</td>\n",
       "    </tr>\n",
       "    <tr>\n",
       "      <th>235</th>\n",
       "      <td>1/10 - and only because there is no setting fo...</td>\n",
       "      <td>0</td>\n",
       "      <td>1</td>\n",
       "      <td>0</td>\n",
       "    </tr>\n",
       "    <tr>\n",
       "      <th>244</th>\n",
       "      <td>The last 15 minutes of movie are also not bad ...</td>\n",
       "      <td>1</td>\n",
       "      <td>0</td>\n",
       "      <td>1</td>\n",
       "    </tr>\n",
       "    <tr>\n",
       "      <th>250</th>\n",
       "      <td>I won't say any more - I don't like spoilers, ...</td>\n",
       "      <td>1</td>\n",
       "      <td>0</td>\n",
       "      <td>0</td>\n",
       "    </tr>\n",
       "    <tr>\n",
       "      <th>335</th>\n",
       "      <td>but the movie makes a lot of serious mistakes.</td>\n",
       "      <td>0</td>\n",
       "      <td>1</td>\n",
       "      <td>0</td>\n",
       "    </tr>\n",
       "    <tr>\n",
       "      <th>373</th>\n",
       "      <td>Not recommended.</td>\n",
       "      <td>0</td>\n",
       "      <td>1</td>\n",
       "      <td>0</td>\n",
       "    </tr>\n",
       "    <tr>\n",
       "      <th>386</th>\n",
       "      <td>Not recommended.</td>\n",
       "      <td>0</td>\n",
       "      <td>1</td>\n",
       "      <td>0</td>\n",
       "    </tr>\n",
       "    <tr>\n",
       "      <th>468</th>\n",
       "      <td>It is not good.</td>\n",
       "      <td>0</td>\n",
       "      <td>1</td>\n",
       "      <td>0</td>\n",
       "    </tr>\n",
       "    <tr>\n",
       "      <th>471</th>\n",
       "      <td>This is a stunning movie.</td>\n",
       "      <td>1</td>\n",
       "      <td>0</td>\n",
       "      <td>1</td>\n",
       "    </tr>\n",
       "    <tr>\n",
       "      <th>518</th>\n",
       "      <td>You can find better movies at youtube.</td>\n",
       "      <td>0</td>\n",
       "      <td>1</td>\n",
       "      <td>0</td>\n",
       "    </tr>\n",
       "    <tr>\n",
       "      <th>579</th>\n",
       "      <td>The result is a film that just don't look righ...</td>\n",
       "      <td>0</td>\n",
       "      <td>1</td>\n",
       "      <td>0</td>\n",
       "    </tr>\n",
       "    <tr>\n",
       "      <th>595</th>\n",
       "      <td>Predictable, but not a bad watch.</td>\n",
       "      <td>1</td>\n",
       "      <td>0</td>\n",
       "      <td>0</td>\n",
       "    </tr>\n",
       "    <tr>\n",
       "      <th>624</th>\n",
       "      <td>I struggle to find anything bad to say about i...</td>\n",
       "      <td>1</td>\n",
       "      <td>0</td>\n",
       "      <td>1</td>\n",
       "    </tr>\n",
       "    <tr>\n",
       "      <th>651</th>\n",
       "      <td>I'm so sorry but I really can't recommend it t...</td>\n",
       "      <td>0</td>\n",
       "      <td>1</td>\n",
       "      <td>0</td>\n",
       "    </tr>\n",
       "    <tr>\n",
       "      <th>658</th>\n",
       "      <td>This is not movie-making.</td>\n",
       "      <td>0</td>\n",
       "      <td>1</td>\n",
       "      <td>0</td>\n",
       "    </tr>\n",
       "    <tr>\n",
       "      <th>668</th>\n",
       "      <td>Not much dialogue, not much music, the whole f...</td>\n",
       "      <td>1</td>\n",
       "      <td>0</td>\n",
       "      <td>1</td>\n",
       "    </tr>\n",
       "    <tr>\n",
       "      <th>672</th>\n",
       "      <td>Not easy to watch.</td>\n",
       "      <td>0</td>\n",
       "      <td>1</td>\n",
       "      <td>0</td>\n",
       "    </tr>\n",
       "    <tr>\n",
       "      <th>728</th>\n",
       "      <td>I keep watching it over and over.</td>\n",
       "      <td>1</td>\n",
       "      <td>0</td>\n",
       "      <td>0</td>\n",
       "    </tr>\n",
       "  </tbody>\n",
       "</table>\n",
       "</div>"
      ],
      "text/plain": [
       "                                              sentence  label  \\\n",
       "20   If there was ever a movie that needed word-of-...      1   \n",
       "38           I don't think you will be disappointed.        1   \n",
       "49   The directing and the cinematography aren't qu...      0   \n",
       "76   I saw \"Mirrormask\" last night and it was an un...      0   \n",
       "123                            Highly unrecommended.        0   \n",
       "131                   There were too many close ups.        0   \n",
       "142                   It even has its sweet moments.        1   \n",
       "175  If you see it, you should probably just leave ...      0   \n",
       "235  1/10 - and only because there is no setting fo...      0   \n",
       "244  The last 15 minutes of movie are also not bad ...      1   \n",
       "250  I won't say any more - I don't like spoilers, ...      1   \n",
       "335   but the movie makes a lot of serious mistakes.        0   \n",
       "373                                 Not recommended.        0   \n",
       "386                                 Not recommended.        0   \n",
       "468                                  It is not good.        0   \n",
       "471                        This is a stunning movie.        1   \n",
       "518           You can find better movies at youtube.        0   \n",
       "579  The result is a film that just don't look righ...      0   \n",
       "595                Predictable, but not a bad watch.        1   \n",
       "624  I struggle to find anything bad to say about i...      1   \n",
       "651  I'm so sorry but I really can't recommend it t...      0   \n",
       "658                        This is not movie-making.        0   \n",
       "668  Not much dialogue, not much music, the whole f...      1   \n",
       "672                               Not easy to watch.        0   \n",
       "728                I keep watching it over and over.        1   \n",
       "\n",
       "     prediction_counts  prediction_tfidf  \n",
       "20                   0                 1  \n",
       "38                   0                 0  \n",
       "49                   1                 0  \n",
       "76                   1                 0  \n",
       "123                  1                 0  \n",
       "131                  1                 0  \n",
       "142                  0                 1  \n",
       "175                  1                 0  \n",
       "235                  1                 0  \n",
       "244                  0                 1  \n",
       "250                  0                 0  \n",
       "335                  1                 0  \n",
       "373                  1                 0  \n",
       "386                  1                 0  \n",
       "468                  1                 0  \n",
       "471                  0                 1  \n",
       "518                  1                 0  \n",
       "579                  1                 0  \n",
       "595                  0                 0  \n",
       "624                  0                 1  \n",
       "651                  1                 0  \n",
       "658                  1                 0  \n",
       "668                  0                 1  \n",
       "672                  1                 0  \n",
       "728                  0                 0  "
      ]
     },
     "execution_count": 32,
     "metadata": {},
     "output_type": "execute_result"
    }
   ],
   "source": [
    "df[df['prediction_counts'] != df['label']]"
   ]
  },
  {
   "cell_type": "markdown",
   "metadata": {},
   "source": [
    "### SGD classifier"
   ]
  },
  {
   "cell_type": "code",
   "execution_count": 33,
   "metadata": {},
   "outputs": [
    {
     "data": {
      "text/plain": [
       "0.9879518072289156"
      ]
     },
     "execution_count": 33,
     "metadata": {},
     "output_type": "execute_result"
    }
   ],
   "source": [
    "NB_logistic = SGDClassifier(loss='hinge', penalty='l2',\\\n",
    "                           alpha=1e-3, random_state=42,\\\n",
    "                           max_iter=5, tol=None)\n",
    "logistic_fit = NB_logistic.fit(X=tf_idf_transf.toarray(),y=df['label'])\n",
    "accuracy_score(NB_logistic.predict(tf_idf_transf.toarray()),df['label'])"
   ]
  },
  {
   "cell_type": "code",
   "execution_count": 34,
   "metadata": {},
   "outputs": [
    {
     "name": "stdout",
     "output_type": "stream",
     "text": [
      "Mots avec le coeff le plus négatif :  bad\n",
      "Mots avec le coeff le plus positif :  beautiful\n"
     ]
    }
   ],
   "source": [
    "print(\"Mots avec le coeff le plus négatif : \", most_frequent_words_sw['dictionary'][np.argsort(NB_logistic.coef_)[0][0]])\n",
    "print(\"Mots avec le coeff le plus positif : \", most_frequent_words_sw['dictionary'][np.argsort(NB_logistic.coef_)[0][-1]])"
   ]
  },
  {
   "cell_type": "markdown",
   "metadata": {},
   "source": [
    "### Avec une pipeline"
   ]
  },
  {
   "cell_type": "code",
   "execution_count": 35,
   "metadata": {
    "collapsed": true
   },
   "outputs": [],
   "source": [
    "from sklearn.pipeline import Pipeline\n",
    "text_clf = Pipeline([('vect', CountVectorizer()), ('tfidf', TfidfTransformer()), ('clf', SGDClassifier(loss='hinge', penalty='l2',\\\n",
    "                           alpha=1e-3, random_state=42,\\\n",
    "                           max_iter=5, tol=None)),])"
   ]
  },
  {
   "cell_type": "code",
   "execution_count": 36,
   "metadata": {},
   "outputs": [
    {
     "data": {
      "text/plain": [
       "0.9825970548862115"
      ]
     },
     "execution_count": 36,
     "metadata": {},
     "output_type": "execute_result"
    }
   ],
   "source": [
    "text_clf.fit(X,df['label'])#\n",
    "accuracy_score(text_clf.predict(X),df['label'])"
   ]
  },
  {
   "cell_type": "markdown",
   "metadata": {},
   "source": [
    "## Jeu de données complet"
   ]
  },
  {
   "cell_type": "markdown",
   "metadata": {},
   "source": [
    "Dataset of 25,000 movies reviews from IMDB, labeled by sentiment (positive/negative). Reviews have been preprocessed, and each review is encoded as a sequence of word indexes (integers). For convenience, words are indexed by overall frequency in the dataset, so that for instance the integer \"3\" encodes the 3rd most frequent word in the data. This allows for quick filtering operations such as: \"only consider the top 10,000 most common words, but eliminate the top 20 most common words\"."
   ]
  },
  {
   "cell_type": "code",
   "execution_count": 2,
   "metadata": {},
   "outputs": [],
   "source": [
    "#Chargement des données à l’aide de keras\n",
    "(x_train, y_train), (x_test, y_test) = imdb.load_data(path=\"imdb.npz\",\n",
    "                                                      num_words=None,\n",
    "                                                      skip_top=0,\n",
    "                                                      maxlen=None,\n",
    "                                                      seed=113,\n",
    "                                                      start_char=1,\n",
    "                                                      oov_char=2,\n",
    "                                                      index_from=3)"
   ]
  },
  {
   "cell_type": "markdown",
   "metadata": {},
   "source": [
    "En utilisant keras, nous chargeons le jeu de données IMDB."
   ]
  },
  {
   "cell_type": "markdown",
   "metadata": {},
   "source": [
    "### Les textes ont été hashés"
   ]
  },
  {
   "cell_type": "code",
   "execution_count": 3,
   "metadata": {},
   "outputs": [
    {
     "data": {
      "text/plain": [
       "array([list([1, 14, 22, 16, 43, 530, 973, 1622, 1385, 65, 458, 4468, 66, 3941, 4, 173, 36, 256, 5, 25, 100, 43, 838, 112, 50, 670, 22665, 9, 35, 480, 284, 5, 150, 4, 172, 112, 167, 21631, 336, 385, 39, 4, 172, 4536, 1111, 17, 546, 38, 13, 447, 4, 192, 50, 16, 6, 147, 2025, 19, 14, 22, 4, 1920, 4613, 469, 4, 22, 71, 87, 12, 16, 43, 530, 38, 76, 15, 13, 1247, 4, 22, 17, 515, 17, 12, 16, 626, 18, 19193, 5, 62, 386, 12, 8, 316, 8, 106, 5, 4, 2223, 5244, 16, 480, 66, 3785, 33, 4, 130, 12, 16, 38, 619, 5, 25, 124, 51, 36, 135, 48, 25, 1415, 33, 6, 22, 12, 215, 28, 77, 52, 5, 14, 407, 16, 82, 10311, 8, 4, 107, 117, 5952, 15, 256, 4, 31050, 7, 3766, 5, 723, 36, 71, 43, 530, 476, 26, 400, 317, 46, 7, 4, 12118, 1029, 13, 104, 88, 4, 381, 15, 297, 98, 32, 2071, 56, 26, 141, 6, 194, 7486, 18, 4, 226, 22, 21, 134, 476, 26, 480, 5, 144, 30, 5535, 18, 51, 36, 28, 224, 92, 25, 104, 4, 226, 65, 16, 38, 1334, 88, 12, 16, 283, 5, 16, 4472, 113, 103, 32, 15, 16, 5345, 19, 178, 32]),\n",
       "       list([1, 194, 1153, 194, 8255, 78, 228, 5, 6, 1463, 4369, 5012, 134, 26, 4, 715, 8, 118, 1634, 14, 394, 20, 13, 119, 954, 189, 102, 5, 207, 110, 3103, 21, 14, 69, 188, 8, 30, 23, 7, 4, 249, 126, 93, 4, 114, 9, 2300, 1523, 5, 647, 4, 116, 9, 35, 8163, 4, 229, 9, 340, 1322, 4, 118, 9, 4, 130, 4901, 19, 4, 1002, 5, 89, 29, 952, 46, 37, 4, 455, 9, 45, 43, 38, 1543, 1905, 398, 4, 1649, 26, 6853, 5, 163, 11, 3215, 10156, 4, 1153, 9, 194, 775, 7, 8255, 11596, 349, 2637, 148, 605, 15358, 8003, 15, 123, 125, 68, 23141, 6853, 15, 349, 165, 4362, 98, 5, 4, 228, 9, 43, 36893, 1157, 15, 299, 120, 5, 120, 174, 11, 220, 175, 136, 50, 9, 4373, 228, 8255, 5, 25249, 656, 245, 2350, 5, 4, 9837, 131, 152, 491, 18, 46151, 32, 7464, 1212, 14, 9, 6, 371, 78, 22, 625, 64, 1382, 9, 8, 168, 145, 23, 4, 1690, 15, 16, 4, 1355, 5, 28, 6, 52, 154, 462, 33, 89, 78, 285, 16, 145, 95])],\n",
       "      dtype=object)"
      ]
     },
     "execution_count": 3,
     "metadata": {},
     "output_type": "execute_result"
    }
   ],
   "source": [
    "x_train[0:2] # impression des 2 premiers commentaires (sous forme codée)"
   ]
  },
  {
   "cell_type": "markdown",
   "metadata": {},
   "source": [
    "### On essaie de reconstruire le 6-ième texte"
   ]
  },
  {
   "cell_type": "markdown",
   "metadata": {},
   "source": [
    "la fonction utilisée en dessous est pour obtenir des mots de texte en passant des valeurs entières"
   ]
  },
  {
   "cell_type": "code",
   "execution_count": 6,
   "metadata": {},
   "outputs": [],
   "source": [
    "#obtenir des mots de texte en passant des valeurs entières\n",
    "def getKeysByValue(dictOfElements, valueToFind):\n",
    "    listOfKeys = list()\n",
    "    listOfItems = dictOfElements.items()\n",
    "    for item  in listOfItems:\n",
    "        if item[1] == valueToFind:\n",
    "            listOfKeys.append(item[0])\n",
    "            print(listOfKeys)"
   ]
  },
  {
   "cell_type": "code",
   "execution_count": 7,
   "metadata": {},
   "outputs": [
    {
     "name": "stdout",
     "output_type": "stream",
     "text": [
      "['the']\n",
      "['as']\n",
      "['you']\n",
      "['with']\n",
      "['out']\n",
      "['themselves']\n",
      "['powerful']\n",
      "['lets']\n",
      "['loves']\n",
      "['their']\n",
      "['becomes']\n",
      "['reaching']\n",
      "['had']\n",
      "['journalist']\n",
      "['of']\n",
      "['lot']\n",
      "['from']\n",
      "['anyone']\n",
      "['to']\n",
      "['have']\n",
      "['after']\n",
      "['out']\n",
      "['atmosphere']\n",
      "['never']\n",
      "['more']\n",
      "['room']\n",
      "['titillate']\n",
      "['it']\n",
      "['so']\n",
      "['heart']\n",
      "['shows']\n",
      "['to']\n",
      "['years']\n",
      "['of']\n",
      "['every']\n",
      "['never']\n",
      "['going']\n",
      "['villaronga']\n",
      "['help']\n",
      "['moments']\n",
      "['or']\n",
      "['of']\n",
      "['every']\n",
      "['chest']\n",
      "['visual']\n",
      "['movie']\n",
      "['except']\n",
      "['her']\n",
      "['was']\n",
      "['several']\n",
      "['of']\n",
      "['enough']\n",
      "['more']\n",
      "['with']\n",
      "['is']\n",
      "['now']\n",
      "['current']\n",
      "['film']\n",
      "['as']\n",
      "['you']\n",
      "['of']\n",
      "['mine']\n",
      "['potentially']\n",
      "['unfortunately']\n",
      "['of']\n",
      "['you']\n",
      "['than']\n",
      "['him']\n",
      "['that']\n",
      "['with']\n",
      "['out']\n",
      "['themselves']\n",
      "['her']\n",
      "['get']\n",
      "['for']\n",
      "['was']\n",
      "['camp']\n",
      "['of']\n",
      "['you']\n",
      "['movie']\n",
      "['sometimes']\n",
      "['movie']\n",
      "['that']\n",
      "['with']\n",
      "['scary']\n",
      "['but']\n",
      "['pratfalls']\n",
      "['to']\n",
      "['story']\n",
      "['wonderful']\n",
      "['that']\n",
      "['in']\n",
      "['seeing']\n",
      "['in']\n",
      "['character']\n",
      "['to']\n",
      "['of']\n",
      "['70s']\n",
      "['musicians']\n",
      "['with']\n",
      "['heart']\n",
      "['had']\n",
      "['shadows']\n",
      "['they']\n",
      "['of']\n",
      "['here']\n",
      "['that']\n",
      "['with']\n",
      "['her']\n",
      "['serious']\n",
      "['to']\n",
      "['have']\n",
      "['does']\n",
      "['when']\n",
      "['from']\n",
      "['why']\n",
      "['what']\n",
      "['have']\n",
      "['critics']\n",
      "['they']\n",
      "['is']\n",
      "['you']\n",
      "['that']\n",
      "[\"isn't\"]\n",
      "['one']\n",
      "['will']\n",
      "['very']\n",
      "['to']\n",
      "['as']\n",
      "['itself']\n",
      "['with']\n",
      "['other']\n",
      "['tricky']\n",
      "['in']\n",
      "['of']\n",
      "['seen']\n",
      "['over']\n",
      "['landed']\n",
      "['for']\n",
      "['anyone']\n",
      "['of']\n",
      "[\"gilmore's\"]\n",
      "['br']\n",
      "[\"show's\"]\n",
      "['to']\n",
      "['whether']\n",
      "['from']\n",
      "['than']\n",
      "['out']\n",
      "['themselves']\n",
      "['history']\n",
      "['he']\n",
      "['name']\n",
      "['half']\n",
      "['some']\n",
      "['br']\n",
      "['of']\n",
      "[\"'n\"]\n",
      "['odd']\n",
      "['was']\n",
      "['two']\n",
      "['most']\n",
      "['of']\n",
      "['mean']\n",
      "['for']\n",
      "['1']\n",
      "['any']\n",
      "['an']\n",
      "['boat']\n",
      "['she']\n",
      "['he']\n",
      "['should']\n",
      "['is']\n",
      "['thought']\n",
      "['frog']\n",
      "['but']\n",
      "['of']\n",
      "['script']\n",
      "['you']\n",
      "['not']\n",
      "['while']\n",
      "['history']\n",
      "['he']\n",
      "['heart']\n",
      "['to']\n",
      "['real']\n",
      "['at']\n",
      "['barrel']\n",
      "['but']\n",
      "['when']\n",
      "['from']\n",
      "['one']\n",
      "['bit']\n",
      "['then']\n",
      "['have']\n",
      "['two']\n",
      "['of']\n",
      "['script']\n",
      "['their']\n",
      "['with']\n",
      "['her']\n",
      "['nobody']\n",
      "['most']\n",
      "['that']\n",
      "['with']\n",
      "[\"wasn't\"]\n",
      "['to']\n",
      "['with']\n",
      "['armed']\n",
      "['acting']\n",
      "['watch']\n",
      "['an']\n",
      "['for']\n",
      "['with']\n",
      "['heartfelt']\n",
      "['film']\n",
      "['want']\n",
      "['an']\n"
     ]
    }
   ],
   "source": [
    "for word_num in x_train[0]:\n",
    "    getKeysByValue(imdb.get_word_index(),word_num)"
   ]
  },
  {
   "cell_type": "code",
   "execution_count": 9,
   "metadata": {},
   "outputs": [
    {
     "data": {
      "text/html": [
       "<div>\n",
       "<style scoped>\n",
       "    .dataframe tbody tr th:only-of-type {\n",
       "        vertical-align: middle;\n",
       "    }\n",
       "\n",
       "    .dataframe tbody tr th {\n",
       "        vertical-align: top;\n",
       "    }\n",
       "\n",
       "    .dataframe thead th {\n",
       "        text-align: right;\n",
       "    }\n",
       "</style>\n",
       "<table border=\"1\" class=\"dataframe\">\n",
       "  <thead>\n",
       "    <tr style=\"text-align: right;\">\n",
       "      <th></th>\n",
       "      <th>sentence</th>\n",
       "      <th>label</th>\n",
       "    </tr>\n",
       "  </thead>\n",
       "  <tbody>\n",
       "    <tr>\n",
       "      <th>0</th>\n",
       "      <td>? this film was just brilliant casting locatio...</td>\n",
       "      <td>1</td>\n",
       "    </tr>\n",
       "    <tr>\n",
       "      <th>1</th>\n",
       "      <td>? big hair big boobs bad music and a giant saf...</td>\n",
       "      <td>0</td>\n",
       "    </tr>\n",
       "    <tr>\n",
       "      <th>2</th>\n",
       "      <td>? this has to be one of the worst films of the...</td>\n",
       "      <td>0</td>\n",
       "    </tr>\n",
       "    <tr>\n",
       "      <th>3</th>\n",
       "      <td>? the scots excel at storytelling the traditio...</td>\n",
       "      <td>1</td>\n",
       "    </tr>\n",
       "    <tr>\n",
       "      <th>4</th>\n",
       "      <td>? worst mistake of my life br br i picked this...</td>\n",
       "      <td>0</td>\n",
       "    </tr>\n",
       "  </tbody>\n",
       "</table>\n",
       "</div>"
      ],
      "text/plain": [
       "                                            sentence  label\n",
       "0  ? this film was just brilliant casting locatio...      1\n",
       "1  ? big hair big boobs bad music and a giant saf...      0\n",
       "2  ? this has to be one of the worst films of the...      0\n",
       "3  ? the scots excel at storytelling the traditio...      1\n",
       "4  ? worst mistake of my life br br i picked this...      0"
      ]
     },
     "execution_count": 9,
     "metadata": {},
     "output_type": "execute_result"
    }
   ],
   "source": [
    "sent=[]  # créer une liste de phrases\n",
    "word_index = imdb.get_word_index()  # cette fonction est utilisée pour obtenir des mots de reviews\n",
    "  \n",
    "reverse_word_index = dict(\n",
    "[(value, key) for (key, value) in word_index.items()])\n",
    "\n",
    "for each in range (len(x_train)):\n",
    "    decoded_review = ' '.join([reverse_word_index.get(i - 3, '?') for i in x_train[each]])\n",
    "    sent.append(decoded_review)  # reviews dans un format text au lieu des entiers codés\n",
    "\n",
    "data=pd.DataFrame(sent,columns=[\"sentence\"]) #on crée une dataframe de phrases\n",
    "\n",
    "data[\"label\"]=y_train\n",
    "\n",
    "data.head() #on imprime les 5 premières lignes du data"
   ]
  },
  {
   "cell_type": "code",
   "execution_count": 7,
   "metadata": {},
   "outputs": [
    {
     "data": {
      "text/plain": [
       "<matplotlib.axes._subplots.AxesSubplot at 0x1a3b6f7198>"
      ]
     },
     "execution_count": 7,
     "metadata": {},
     "output_type": "execute_result"
    },
    {
     "data": {
      "image/png": "[encoded data removed]",
      "text/plain": [
       "<Figure size 432x288 with 1 Axes>"
      ]
     },
     "metadata": {
      "needs_background": "light"
     },
     "output_type": "display_data"
    }
   ],
   "source": [
    "sns.barplot(np.unique(data['label']),data.groupby('label').count().values[:,0])  #diagramme en barres du décompte de chaque labels(0 et 1)"
   ]
  },
  {
   "cell_type": "markdown",
   "metadata": {},
   "source": [
    "# Bag of words"
   ]
  },
  {
   "cell_type": "markdown",
   "metadata": {},
   "source": [
    "Ici on fait la représentation de bag of words, qui convertira les données en forme vectorielle afin que nous puissions appliquer ML."
   ]
  },
  {
   "cell_type": "code",
   "execution_count": 10,
   "metadata": {},
   "outputs": [
    {
     "name": "stdout",
     "output_type": "stream",
     "text": [
      "['18th', '1990s', '2006', '2008', '80', '80s', '85', '86', '90s', 'abomination', 'about', 'accepted', 'accessability', 'across', 'acting', 'actor', 'actors', 'actually', 'adaption', 'add', 'after', 'again', 'against', 'age', 'aged', 'agree', 'aimed', 'alive', 'all', 'almost', 'along', 'also', 'altieri', 'am', 'amazement', 'amazing', 'american', 'among', 'amores', 'an', 'ancient', 'and', 'angus', 'annoyed', 'anyone', 'anything', 'aonghas', 'april', 'archetypes', 'are', 'army', 'as', 'aside', 'asleep', 'aspect', 'aspiration', 'associated', 'at', 'atmosphere', 'audience', 'austen', 'authenticity', 'away', 'awe', 'awful', 'back', 'bad', 'badly', 'bars', 'basement', 'bashing', 'battle', 'battles', 'be', 'beautiful', 'beauty', 'because', 'become', 'been', 'before', 'begins', 'behind', 'being', 'believe', 'bereavement', 'best', 'better', 'between', 'beyond', 'big', 'bigger', 'bill', 'bit', 'blend', 'blood', 'bloody', 'bodies', 'boobs', 'boring', 'born', 'both', 'bottle', 'bought', 'bounce', 'bowl', 'box', 'boy', 'br', 'braveheart', 'breadth', 'brilliant', 'brother', 'brothers', 'budget', 'build', 'burn', 'burns', 'but', 'butcher', 'buy', 'by', 'california', 'called', 'calm', 'camcorder', 'came', 'campiness', 'campy', 'can', 'cannot', 'capture', 'capturing', 'cardinal', 'cast', 'casting', 'caught', 'century', 'chained', 'character', 'characters', 'charge', 'charm', 'cheap', 'cheesy', 'children', 'class', 'classes', 'classic', 'clear', 'climb', 'climbing', 'close', 'closing', 'clothes', 'clue', 'co', 'combining', 'come', 'comical', 'comments', 'commits', 'community', 'complete', 'completely', 'concept', 'conflict', 'congratulations', 'connect', 'connection', 'continued', 'contrary', 'convinced', 'cop', 'cory', 'costumes', 'could', 'couldn', 'course', 'covered', 'crap', 'credit', 'credits', 'crew', 'cried', 'crowd', 'cry', 'crying', 'culloden', 'cupboard', 'cut', 'damn', 'dark', 'darkness', 'darlene', 'dash', 'david', 'day', 'death', 'dechifered', 'deeper', 'deeply', 'definitely', 'describe', 'despite', 'dialog', 'did', 'didn', 'die', 'directed', 'direction', 'director', 'disaster', 'discover', 'discovering', 'discussed', 'discussion', 'do', 'doc', 'documentaries', 'documentary', 'does', 'doesn', 'doing', 'don', 'done', 'doubt', 'down', 'drama', 'dramatisation', 'dull', 'duration', 'each', 'earnt', 'effective', 'either', 'elderly', 'eldest', 'else', 'embarrasing', 'emotional', 'end', 'ending', 'ends', 'engaging', 'england', 'enough', 'enter', 'equal', 'evaluate', 'even', 'event', 'events', 'eventually', 'ever', 'every', 'everyone', 'everything', 'evoke', 'excel', 'except', 'excuse', 'experienced', 'explaining', 'exploitation', 'extent', 'extreme', 'eye', 'fact', 'failed', 'famous', 'far', 'fateful', 'father', 'feeble', 'feel', 'feeling', 'felt', 'few', 'fiction', 'figured', 'film', 'filmed', 'films', 'finds', 'finest', 'firgens', 'first', 'fishing', 'floor', 'flores', 'fly', 'folklore', 'follow', 'fool', 'for', 'forego', 'forgave', 'forget', 'forgettable', 'fortunetly', 'found', 'four', 'francis', 'franics', 'friend', 'friends', 'from', 'frustration', 'fully', 'fun', 'funny', 'gaelic', 'game', 'generally', 'generations', 'genuinely', 'get', 'giant', 'girls', 'give', 'gives', 'glasgow', 'go', 'goes', 'going', 'good', 'gore', 'got', 'grade', 'grandfather', 'great', 'grow', 'grown', 'guess', 'gym', 'had', 'hair', 'half', 'hamilton', 'hamiltons', 'hang', 'hanging', 'happened', 'happens', 'harmless', 'harsh', 'has', 'hate', 'have', 'haven', 'he', 'head', 'hear', 'heath', 'help', 'her', 'here', 'hey', 'him', 'himself', 'his', 'hit', 'home', 'honest', 'horror', 'horrorfest', 'hospital', 'hour', 'house', 'houses', 'how', 'human', 'humor', 'hundreds', 'hyped', 'hysterically', 'idea', 'if', 'imagination', 'imagine', 'impenetrable', 'impossible', 'impress', 'imprison', 'in', 'inaccessible', 'incestuous', 'inside', 'inspiration', 'intensity', 'interest', 'into', 'introduces', 'invisible', 'invite', 'involvement', 'is', 'island', 'isn', 'it', 'its', 'jane', 'jaws', 'jealousies', 'job', 'joking', 'joseph', 'journey', 'just', 'justly', 'keeping', 'ketchup', 'kidnap', 'kill', 'killer', 'kind', 'kiss', 'knauf', 'know', 'lady', 'last', 'lately', 'laugh', 'laughable', 'laughing', 'laughs', 'lavish', 'leaving', 'left', 'legend', 'length', 'lesbian', 'letting', 'lies', 'life', 'like', 'liked', 'list', 'little', 'lives', 'local', 'location', 'long', 'look', 'looked', 'looking', 'looks', 'lot', 'lots', 'loud', 'love', 'loved', 'lovely', 'lovers', 'low', 'mackenzie', 'made', 'magic', 'make', 'makers', 'makes', 'mallaig', 'man', 'many', 'marriage', 'material', 'maybe', 'mckelheer', 'me', 'measures', 'meditate', 'memorable', 'men', 'mesh', 'message', 'microwave', 'mid', 'middle', 'might', 'mile', 'mind', 'minute', 'mistake', 'mists', 'mitchell', 'mix', 'mixture', 'models', 'modern', 'moment', 'money', 'mood', 'more', 'most', 'mother', 'mountain', 'mountains', 'move', 'movie', 'movies', 'moving', 'much', 'murder', 'music', 'must', 'my', 'myself', 'mystery', 'name', 'neither', 'nerves', 'never', 'new', 'next', 'night', 'no', 'none', 'norman', 'northam', 'not', 'nothing', 'now', 'of', 'off', 'office', 'often', 'old', 'older', 'on', 'once', 'one', 'only', 'or', 'other', 'our', 'out', 'outperforms', 'over', 'own', 'paid', 'paltrow', 'paper', 'paramedics', 'parent', 'parents', 'part', 'pass', 'passed', 'passion', 'pastiche', 'paul', 'pays', 'people', 'performances', 'perros', 'petaluma', 'phil', 'picked', 'picture', 'pin', 'pinnacle', 'play', 'played', 'plays', 'plods', 'plot', 'poisoned', 'poor', 'pop', 'popcorn', 'potent', 'power', 'praised', 'praising', 'pretext', 'pretty', 'probably', 'problem', 'produced', 'produces', 'production', 'profile', 'project', 'protagonist', 'provincial', 'psycho', 'psychological', 'pulled', 'question', 'raised', 'rarely', 'rather', 're', 'real', 'reality', 'really', 'recommend', 'recovers', 'redford', 'relax', 'released', 'rely', 'remake', 'remarks', 'remember', 'reservoir', 'rest', 'results', 'retail', 'retelling', 'revealed', 'revisit', 'ridiculous', 'ridiculousness', 'right', 'robert', 'role', 'roll', 'rooted', 'rough', 'rubbish', 'rugged', 'ruining', 'russian', 'sad', 'safety', 'said', 'salutory', 'same', 'samuel', 'sandler', 'sat', 'satirical', 'save', 'saw', 'say', 'scale', 'scare', 'scary', 'scene', 'scenery', 'scenes', 'scepticism', 'school', 'scotland', 'scots', 'scottish', 'script', 'seach', 'seachd', 'second', 'see', 'seem', 'seen', 'serve', 'set', 'setting', 'shared', 'she', 'shirts', 'shock', 'shores', 'shortly', 'shots', 'should', 'show', 'showdown', 'showing', 'shrouded', 'siblings', 'sickening', 'sin', 'since', 'singing', 'sister', 'slasher', 'slaughterhouse', 'slightly', 'slow', 'so', 'sodden', 'solid', 'some', 'someone', 'something', 'sometimes', 'soon', 'sort', 'sound', 'sounding', 'soundtrack', 'source', 'speaking', 'special', 'splatter', 'spoiler', 'stars', 'started', 'still', 'stomachs', 'stop', 'stories', 'story', 'storytelling', 'straightforward', 'stretches', 'struggling', 'stuck', 'stuff', 'submarine', 'suburban', 'successions', 'such', 'suffering', 'suggest', 'suited', 'summit', 'supposed', 'surprise', 'surrogate', 'sustain', 'sustained', 'sustaining', 'synthesiser', 'taking', 'talking', 'target', 'teddy', 'tee', 'teenager', 'tell', 'telling', 'tells', 'tempered', 'tense', 'terrible', 'terribly', 'than', 'that', 'the', 'theater', 'theatre', 'their', 'them', 'then', 'there', 'these', 'they', 'thin', 'thing', 'things', 'think', 'this', 'those', 'though', 'thought', 'three', 'thrill', 'through', 'throughout', 'time', 'times', 'to', 'today', 'told', 'tomato', 'toned', 'too', 'took', 'top', 'toss', 'total', 'touching', 'touchy', 'towards', 'traditional', 'trash', 'trashy', 'treacherous', 'tries', 'triumph', 'true', 'truly', 'truth', 'truths', 'trying', 'twenty', 'twins', 'twist', 'two', 'ultra', 'unhappy', 'unique', 'unknown', 'unlikable', 'unpretentious', 'unsure', 'up', 'upon', 'us', 'utter', 'values', 've', 'version', 'very', 'virtue', 'visits', 'void', 'walk', 'wall', 'wanted', 'wants', 'warning', 'was', 'watch', 'watched', 'watching', 'way', 'we', 'wear', 'wendell', 'were', 'western', 'what', 'whatever', 'when', 'where', 'whether', 'which', 'while', 'who', 'whole', 'whose', 'why', 'wicker', 'will', 'with', 'within', 'witness', 'witty', 'wonder', 'words', 'wore', 'work', 'worked', 'working', 'world', 'worst', 'would', 'wouldn', 'write', 'written', 'wrong', 'yearns', 'years', 'yet', 'you', 'young', 'your', 'yourself', 'zero']\n"
     ]
    }
   ],
   "source": [
    "X_sub = data['sentence'][0:10]  #on prend un sous-ensemble au lieu de données entières\n",
    "\n",
    "count_vect = CountVectorizer()     #vectoriser les mots\n",
    "X_sub_counts = count_vect.fit_transform(X_sub)\n",
    "dictionary_sub   = count_vect.get_feature_names()\n",
    "print(dictionary_sub)"
   ]
  },
  {
   "cell_type": "code",
   "execution_count": 11,
   "metadata": {},
   "outputs": [
    {
     "name": "stdout",
     "output_type": "stream",
     "text": [
      "830\n"
     ]
    }
   ],
   "source": [
    "print(count_vect.vocabulary_.get(u'who')) #combien de fois le mot \"who\" apparaît"
   ]
  },
  {
   "cell_type": "code",
   "execution_count": 12,
   "metadata": {},
   "outputs": [
    {
     "name": "stdout",
     "output_type": "stream",
     "text": [
      "(10, 861)\n",
      "  (0, 799)\t1\n",
      "  (0, 657)\t1\n",
      "  (0, 20)\t1\n",
      "  (0, 434)\t1\n",
      "  (0, 683)\t1\n",
      "  (0, 781)\t1\n",
      "  (0, 452)\t1\n",
      "  (0, 223)\t1\n",
      "  (0, 224)\t1\n",
      "  (0, 572)\t1\n",
      "  (0, 73)\t1\n",
      "  (0, 664)\t1\n",
      "  (0, 746)\t1\n",
      "  (0, 117)\t1\n",
      "  (0, 831)\t2\n",
      "  (0, 581)\t1\n",
      "  (0, 89)\t1\n",
      "  (0, 712)\t1\n",
      "  (0, 797)\t1\n",
      "  (0, 332)\t1\n",
      "  (0, 28)\t3\n",
      "  (0, 743)\t1\n",
      "  (0, 561)\t1\n",
      "  (0, 696)\t1\n",
      "  (0, 76)\t2\n",
      "  :\t:\n",
      "  (0, 598)\t1\n",
      "  (0, 615)\t1\n",
      "  (0, 745)\t2\n",
      "  (0, 82)\t2\n",
      "  (0, 379)\t1\n",
      "  (0, 175)\t1\n",
      "  (0, 856)\t4\n",
      "  (0, 41)\t9\n",
      "  (0, 562)\t2\n",
      "  (0, 747)\t4\n",
      "  (0, 545)\t2\n",
      "  (0, 739)\t15\n",
      "  (0, 715)\t1\n",
      "  (0, 595)\t2\n",
      "  (0, 255)\t2\n",
      "  (0, 209)\t1\n",
      "  (0, 702)\t2\n",
      "  (0, 640)\t1\n",
      "  (0, 441)\t1\n",
      "  (0, 134)\t1\n",
      "  (0, 110)\t3\n",
      "  (0, 408)\t4\n",
      "  (0, 813)\t11\n",
      "  (0, 280)\t6\n",
      "  (0, 752)\t3\n",
      "<class 'scipy.sparse.csr.csr_matrix'>\n"
     ]
    }
   ],
   "source": [
    "print(X_sub_counts.shape) \n",
    "print(X_sub_counts[0])\n",
    "print(type(X_sub_counts))"
   ]
  },
  {
   "cell_type": "code",
   "execution_count": 13,
   "metadata": {},
   "outputs": [],
   "source": [
    "word_counts = pd.DataFrame(X_sub_counts.toarray(),columns = dictionary_sub)\n",
    "word_total_counts = pd.DataFrame()\n",
    "word_total_counts['count'] = word_counts.sum(axis=0)\n",
    "word_total_counts['word'] = dictionary_sub"
   ]
  },
  {
   "cell_type": "code",
   "execution_count": 14,
   "metadata": {},
   "outputs": [],
   "source": [
    "word_total_counts_sorted_top  = word_total_counts.sort_values(by=\"count\",ascending = False).iloc[0:20] # top 20 mots"
   ]
  },
  {
   "cell_type": "code",
   "execution_count": 15,
   "metadata": {},
   "outputs": [
    {
     "data": {
      "image/png": "[encoded data removed]",
      "text/plain": [
       "<Figure size 1080x576 with 1 Axes>"
      ]
     },
     "metadata": {
      "needs_background": "light"
     },
     "output_type": "display_data"
    }
   ],
   "source": [
    "plt.figure(figsize=(15,8))\n",
    "sns.barplot(x = word_total_counts_sorted_top.index,y=word_total_counts_sorted_top['count'])\n",
    "plt.xticks(rotation=90,fontsize=10)\n",
    "plt.show()"
   ]
  },
  {
   "cell_type": "markdown",
   "metadata": {},
   "source": [
    "On a les données d'origine avec des mots vides. Nous devrons maintenant supprimer les stopwords."
   ]
  },
  {
   "cell_type": "code",
   "execution_count": 16,
   "metadata": {},
   "outputs": [],
   "source": [
    "def most_frequent_words(count_vect,data):     #fonction de vérification des mots les plus fréquents\n",
    "    data_counts = count_vect.fit_transform(data)\n",
    "    dictionary   = count_vect.get_feature_names()\n",
    "    print(\"Taille du dictionnaire : \",len(dictionary))\n",
    "    word_counts = pd.DataFrame(data_counts.toarray(),columns = dictionary)\n",
    "    word_total_counts = pd.DataFrame()\n",
    "    word_total_counts['count'] = word_counts.sum(axis=0)\n",
    "    word_total_counts['word'] = dictionary\n",
    "    word_total_counts_sorted_top  = word_total_counts.sort_values(by=\"count\",ascending = False).iloc[0:20]\n",
    "    plt.figure(figsize=(15,8))\n",
    "    sns.barplot(x = word_total_counts_sorted_top.index,y=word_total_counts_sorted_top['count'])\n",
    "    plt.xticks(rotation=90,fontsize=10)\n",
    "    plt.show()\n",
    "    return {'data_counts' : data_counts, 'word_total_counts' :word_total_counts, 'dictionary' : dictionary}"
   ]
  },
  {
   "cell_type": "code",
   "execution_count": 17,
   "metadata": {},
   "outputs": [],
   "source": [
    "count_vect = CountVectorizer()\n",
    "X_sub_counts = count_vect.fit_transform(X_sub)"
   ]
  },
  {
   "cell_type": "code",
   "execution_count": 18,
   "metadata": {},
   "outputs": [
    {
     "name": "stdout",
     "output_type": "stream",
     "text": [
      "Taille du dictionnaire :  861\n"
     ]
    },
    {
     "data": {
      "image/png": "[encoded data removed]",
      "text/plain": [
       "<Figure size 1080x576 with 1 Axes>"
      ]
     },
     "metadata": {
      "needs_background": "light"
     },
     "output_type": "display_data"
    }
   ],
   "source": [
    "most_frequent_words_sub = most_frequent_words(count_vect,X_sub)"
   ]
  },
  {
   "cell_type": "code",
   "execution_count": 19,
   "metadata": {},
   "outputs": [
    {
     "name": "stdout",
     "output_type": "stream",
     "text": [
      "{'which', 'aren', 'through', 'when', 'will', 're', 'yourself', 'is', 'only', \"shan't\", 'both', 'all', 'their', 'whom', 'do', 'once', 'any', 'what', 'couldn', 'they', 'can', 'those', 'themselves', 'ourselves', 'in', 'why', 's', 'because', 'during', 'herself', 'mightn', 'myself', 'does', 'own', 'haven', 'ours', \"won't\", 'i', 'doesn', 'out', 'film', 'didn', 'hers', 'have', \"hadn't\", 'am', 'wasn', \"weren't\", 'her', \"it's\", 'with', 'we', 'was', 'having', 'from', 'being', 'are', 'don', 'over', 'yourselves', 'after', \"mightn't\", 'down', 'not', 'to', 'below', \"wasn't\", 'should', 'other', 'a', 'be', 'some', 'but', 'further', \"needn't\", 'had', 'above', 'o', 'ain', \"haven't\", 'me', 'them', 'd', \"hasn't\", 'too', 'itself', 'doing', 'very', 'won', 'up', 'hasn', 'needn', 'isn', 'your', 'same', 'theirs', 'were', \"couldn't\", 'his', 'by', \"didn't\", 'into', 'ma', 'more', 'for', 'y', 't', 'off', \"should've\", 'where', 'there', 'this', 'so', 'she', 'under', 'few', 'been', 'he', 'has', \"isn't\", \"wouldn't\", \"shouldn't\", 'who', 'weren', 'most', \"you'll\", 'll', 'than', 'against', 'shan', 'its', 'and', 'no', 'or', 'hadn', 'movie', \"you're\", 'between', 'himself', 'here', \"that'll\", \"you'd\", \"don't\", 'that', 'before', 'nor', 'how', 'of', 'an', 'my', 'such', \"mustn't\", 'yours', 'him', 'at', 've', \"aren't\", 'mustn', 'as', 'each', 'did', 'you', \"she's\", 'shouldn', 'if', 'until', 'our', 'wouldn', 'these', 'about', 'just', 'the', 'then', 'while', 'again', 'it', \"doesn't\", \"you've\", 'on', 'now', 'm'}\n"
     ]
    }
   ],
   "source": [
    "X=data[\"sentence\"]  # On prend Maintenant tous le data au lieu de sous ensemble\n",
    "\n",
    "stop = set(stopwords.words('english'))   #Supprimer les stopwords\n",
    "stop.update({'movie','film'})\n",
    "print(stop)\n",
    "\n"
   ]
  },
  {
   "cell_type": "code",
   "execution_count": 20,
   "metadata": {},
   "outputs": [
    {
     "name": "stdout",
     "output_type": "stream",
     "text": [
      "Taille du dictionnaire :  74702\n"
     ]
    },
    {
     "data": {
      "image/png": "[encoded data removed]",
      "text/plain": [
       "<Figure size 1080x576 with 1 Axes>"
      ]
     },
     "metadata": {
      "needs_background": "light"
     },
     "output_type": "display_data"
    }
   ],
   "source": [
    "most_frequent_words_tot = most_frequent_words(count_vect,X) #total avant suppression du stopwords"
   ]
  },
  {
   "cell_type": "code",
   "execution_count": 21,
   "metadata": {},
   "outputs": [
    {
     "name": "stdout",
     "output_type": "stream",
     "text": [
      "Taille du dictionnaire :  74555\n"
     ]
    },
    {
     "data": {
      "image/png": "[encoded data removed]",
      "text/plain": [
       "<Figure size 1080x576 with 1 Axes>"
      ]
     },
     "metadata": {
      "needs_background": "light"
     },
     "output_type": "display_data"
    }
   ],
   "source": [
    "count_vect_sw = CountVectorizer(stop_words=stop)  # trouver le mot le plus fréquent après la suppression\n",
    "most_frequent_words_sw = most_frequent_words(count_vect_sw,X)"
   ]
  },
  {
   "cell_type": "markdown",
   "metadata": {},
   "source": [
    "Maintenant, on a les données propres après la suppression du stopword"
   ]
  },
  {
   "cell_type": "code",
   "execution_count": 22,
   "metadata": {},
   "outputs": [],
   "source": [
    "most_frequent = np.array(most_frequent_words_sw['data_counts'].toarray())\n",
    "hist = most_frequent / most_frequent.sum(axis=1)[:,None]"
   ]
  },
  {
   "cell_type": "code",
   "execution_count": 23,
   "metadata": {},
   "outputs": [
    {
     "data": {
      "text/plain": [
       "<matplotlib.image.AxesImage at 0x1a31655240>"
      ]
     },
     "execution_count": 23,
     "metadata": {},
     "output_type": "execute_result"
    },
    {
     "data": {
      "image/png": "[encoded data removed]",
      "text/plain": [
       "<Figure size 1080x576 with 1 Axes>"
      ]
     },
     "metadata": {
      "needs_background": "light"
     },
     "output_type": "display_data"
    }
   ],
   "source": [
    "plt.figure(figsize=(15,8))\n",
    "plt.imshow(hist[np.argsort(y_train),:])"
   ]
  },
  {
   "cell_type": "code",
   "execution_count": 24,
   "metadata": {},
   "outputs": [
    {
     "data": {
      "text/plain": [
       "TfidfTransformer(norm='l2', smooth_idf=False, sublinear_tf=False,\n",
       "         use_idf=True)"
      ]
     },
     "execution_count": 24,
     "metadata": {},
     "output_type": "execute_result"
    }
   ],
   "source": [
    "transformer = TfidfTransformer(smooth_idf=False)  # tf-idf  représentation vectorielle utilisée pour les modèles du ML\n",
    "transformer"
   ]
  },
  {
   "cell_type": "code",
   "execution_count": 25,
   "metadata": {},
   "outputs": [],
   "source": [
    "tf_idf_transf = transformer.fit_transform(most_frequent_words_sw['data_counts'])"
   ]
  },
  {
   "cell_type": "code",
   "execution_count": 23,
   "metadata": {},
   "outputs": [
    {
     "data": {
      "text/plain": [
       "<matplotlib.colorbar.Colorbar at 0x1a2cbb2780>"
      ]
     },
     "execution_count": 23,
     "metadata": {},
     "output_type": "execute_result"
    },
    {
     "data": {
      "image/png": "[encoded data removed]",
      "text/plain": [
       "<Figure size 1080x576 with 2 Axes>"
      ]
     },
     "metadata": {
      "needs_background": "light"
     },
     "output_type": "display_data"
    }
   ],
   "source": [
    "plt.figure(figsize=(15,8))\n",
    "plt.imshow(tf_idf_transf.toarray()[np.argsort(y_train),:])\n",
    "plt.colorbar()"
   ]
  },
  {
   "cell_type": "markdown",
   "metadata": {},
   "source": [
    "### Implémentation des algorithmes de Machine Learning"
   ]
  },
  {
   "cell_type": "code",
   "execution_count": 31,
   "metadata": {},
   "outputs": [
    {
     "data": {
      "text/plain": [
       "0.91468"
      ]
     },
     "execution_count": 31,
     "metadata": {},
     "output_type": "execute_result"
    }
   ],
   "source": [
    "NB_counts = MultinomialNB() # Création d'objet du classifieur MNB\n",
    "NB_counts.fit(X=most_frequent_words_sw['data_counts'],y=data[\"label\"]) # ajustement du modèle sur les données\n",
    "accuracy_score(NB_counts.predict(most_frequent_words_sw['data_counts']),data[\"label\"])# prédire et vérification de la précision(accuracy)"
   ]
  },
  {
   "cell_type": "markdown",
   "metadata": {},
   "source": [
    "On obtient un score de précision de 91,2% "
   ]
  },
  {
   "cell_type": "code",
   "execution_count": 33,
   "metadata": {},
   "outputs": [
    {
     "data": {
      "text/plain": [
       "0.94024"
      ]
     },
     "execution_count": 33,
     "metadata": {},
     "output_type": "execute_result"
    }
   ],
   "source": [
    "NB_tfidf = GaussianNB()# Création d'objet du classifieur gaussien NB\n",
    "NB_tfidf.fit(X=tf_idf_transf.toarray(),y=data[\"label\"])# ajustement du modèle sur les données\n",
    "accuracy_score(NB_tfidf.predict(tf_idf_transf.toarray()),data['label'])# prédire et vérification de la précision(accuracy)"
   ]
  },
  {
   "cell_type": "markdown",
   "metadata": {},
   "source": [
    "Avec le classifieur gaussien NB, on a obtenu un score de précision meilleure avec un pourcentage de 94%"
   ]
  },
  {
   "cell_type": "code",
   "execution_count": 34,
   "metadata": {},
   "outputs": [
    {
     "data": {
      "text/html": [
       "<div>\n",
       "<style scoped>\n",
       "    .dataframe tbody tr th:only-of-type {\n",
       "        vertical-align: middle;\n",
       "    }\n",
       "\n",
       "    .dataframe tbody tr th {\n",
       "        vertical-align: top;\n",
       "    }\n",
       "\n",
       "    .dataframe thead th {\n",
       "        text-align: right;\n",
       "    }\n",
       "</style>\n",
       "<table border=\"1\" class=\"dataframe\">\n",
       "  <thead>\n",
       "    <tr style=\"text-align: right;\">\n",
       "      <th></th>\n",
       "      <th>sentence</th>\n",
       "      <th>label</th>\n",
       "      <th>prediction_counts</th>\n",
       "      <th>prediction_tfidf</th>\n",
       "    </tr>\n",
       "  </thead>\n",
       "  <tbody>\n",
       "    <tr>\n",
       "      <th>0</th>\n",
       "      <td>? this film was just brilliant casting locatio...</td>\n",
       "      <td>1</td>\n",
       "      <td>1</td>\n",
       "      <td>0</td>\n",
       "    </tr>\n",
       "    <tr>\n",
       "      <th>22</th>\n",
       "      <td>? i hate reading reviews that say something li...</td>\n",
       "      <td>1</td>\n",
       "      <td>0</td>\n",
       "      <td>0</td>\n",
       "    </tr>\n",
       "    <tr>\n",
       "      <th>28</th>\n",
       "      <td>? bela lugosi appeared in several of these low...</td>\n",
       "      <td>1</td>\n",
       "      <td>0</td>\n",
       "      <td>0</td>\n",
       "    </tr>\n",
       "    <tr>\n",
       "      <th>58</th>\n",
       "      <td>? i watched the movie in a preview and i reall...</td>\n",
       "      <td>1</td>\n",
       "      <td>1</td>\n",
       "      <td>0</td>\n",
       "    </tr>\n",
       "    <tr>\n",
       "      <th>64</th>\n",
       "      <td>? i'm probably one of the biggest nancy drew f...</td>\n",
       "      <td>1</td>\n",
       "      <td>1</td>\n",
       "      <td>0</td>\n",
       "    </tr>\n",
       "    <tr>\n",
       "      <th>97</th>\n",
       "      <td>? not that much things happen in this movie bu...</td>\n",
       "      <td>1</td>\n",
       "      <td>0</td>\n",
       "      <td>0</td>\n",
       "    </tr>\n",
       "    <tr>\n",
       "      <th>118</th>\n",
       "      <td>? a series of shorts spoofing dumb tv shows gr...</td>\n",
       "      <td>1</td>\n",
       "      <td>0</td>\n",
       "      <td>0</td>\n",
       "    </tr>\n",
       "    <tr>\n",
       "      <th>123</th>\n",
       "      <td>? beautiful and touching movie rich colors gre...</td>\n",
       "      <td>1</td>\n",
       "      <td>1</td>\n",
       "      <td>0</td>\n",
       "    </tr>\n",
       "    <tr>\n",
       "      <th>142</th>\n",
       "      <td>? while i would say i enjoy the show i expecte...</td>\n",
       "      <td>1</td>\n",
       "      <td>1</td>\n",
       "      <td>0</td>\n",
       "    </tr>\n",
       "    <tr>\n",
       "      <th>143</th>\n",
       "      <td>? i myself am a kid at heart meaning i love wa...</td>\n",
       "      <td>1</td>\n",
       "      <td>1</td>\n",
       "      <td>0</td>\n",
       "    </tr>\n",
       "    <tr>\n",
       "      <th>144</th>\n",
       "      <td>? writer director co star adam jones is headed...</td>\n",
       "      <td>1</td>\n",
       "      <td>1</td>\n",
       "      <td>0</td>\n",
       "    </tr>\n",
       "    <tr>\n",
       "      <th>145</th>\n",
       "      <td>? this movie is simply wonderful it's got it a...</td>\n",
       "      <td>1</td>\n",
       "      <td>1</td>\n",
       "      <td>0</td>\n",
       "    </tr>\n",
       "    <tr>\n",
       "      <th>154</th>\n",
       "      <td>? in order to stop her homosexual friend alber...</td>\n",
       "      <td>1</td>\n",
       "      <td>1</td>\n",
       "      <td>0</td>\n",
       "    </tr>\n",
       "    <tr>\n",
       "      <th>163</th>\n",
       "      <td>? i thought it was pretty interesting my socia...</td>\n",
       "      <td>1</td>\n",
       "      <td>0</td>\n",
       "      <td>0</td>\n",
       "    </tr>\n",
       "    <tr>\n",
       "      <th>185</th>\n",
       "      <td>? anyone who doesn't think bill and ted's bogu...</td>\n",
       "      <td>1</td>\n",
       "      <td>1</td>\n",
       "      <td>0</td>\n",
       "    </tr>\n",
       "    <tr>\n",
       "      <th>245</th>\n",
       "      <td>? i love this show as it action packed with ad...</td>\n",
       "      <td>1</td>\n",
       "      <td>1</td>\n",
       "      <td>0</td>\n",
       "    </tr>\n",
       "    <tr>\n",
       "      <th>258</th>\n",
       "      <td>? this is my first comment this is a fantastic...</td>\n",
       "      <td>1</td>\n",
       "      <td>1</td>\n",
       "      <td>0</td>\n",
       "    </tr>\n",
       "    <tr>\n",
       "      <th>269</th>\n",
       "      <td>? the documentary presents an original theory ...</td>\n",
       "      <td>1</td>\n",
       "      <td>1</td>\n",
       "      <td>0</td>\n",
       "    </tr>\n",
       "    <tr>\n",
       "      <th>275</th>\n",
       "      <td>? i grew up watching this movie and i still lo...</td>\n",
       "      <td>1</td>\n",
       "      <td>1</td>\n",
       "      <td>0</td>\n",
       "    </tr>\n",
       "    <tr>\n",
       "      <th>320</th>\n",
       "      <td>? i think that this film is brilliant there ar...</td>\n",
       "      <td>1</td>\n",
       "      <td>1</td>\n",
       "      <td>0</td>\n",
       "    </tr>\n",
       "    <tr>\n",
       "      <th>330</th>\n",
       "      <td>? ah ritchie's made another gangster film with...</td>\n",
       "      <td>1</td>\n",
       "      <td>1</td>\n",
       "      <td>0</td>\n",
       "    </tr>\n",
       "    <tr>\n",
       "      <th>339</th>\n",
       "      <td>? ernest borgnine was so wasted in this movie ...</td>\n",
       "      <td>1</td>\n",
       "      <td>0</td>\n",
       "      <td>0</td>\n",
       "    </tr>\n",
       "    <tr>\n",
       "      <th>346</th>\n",
       "      <td>? i rented this movie on dvd without knowing w...</td>\n",
       "      <td>1</td>\n",
       "      <td>0</td>\n",
       "      <td>0</td>\n",
       "    </tr>\n",
       "    <tr>\n",
       "      <th>349</th>\n",
       "      <td>? i just don't understand why this movie is ge...</td>\n",
       "      <td>1</td>\n",
       "      <td>0</td>\n",
       "      <td>0</td>\n",
       "    </tr>\n",
       "    <tr>\n",
       "      <th>368</th>\n",
       "      <td>? normally i don't like series at all they're ...</td>\n",
       "      <td>1</td>\n",
       "      <td>1</td>\n",
       "      <td>0</td>\n",
       "    </tr>\n",
       "    <tr>\n",
       "      <th>382</th>\n",
       "      <td>? i give this film it's props that it is very ...</td>\n",
       "      <td>0</td>\n",
       "      <td>0</td>\n",
       "      <td>1</td>\n",
       "    </tr>\n",
       "    <tr>\n",
       "      <th>396</th>\n",
       "      <td>? this movie was incredible i would recommend ...</td>\n",
       "      <td>1</td>\n",
       "      <td>1</td>\n",
       "      <td>0</td>\n",
       "    </tr>\n",
       "    <tr>\n",
       "      <th>402</th>\n",
       "      <td>? being the first feature film with robert de ...</td>\n",
       "      <td>1</td>\n",
       "      <td>1</td>\n",
       "      <td>0</td>\n",
       "    </tr>\n",
       "    <tr>\n",
       "      <th>416</th>\n",
       "      <td>? i really enjoyed girl fight it something i c...</td>\n",
       "      <td>1</td>\n",
       "      <td>1</td>\n",
       "      <td>0</td>\n",
       "    </tr>\n",
       "    <tr>\n",
       "      <th>439</th>\n",
       "      <td>? my mother and i were on our way home from a ...</td>\n",
       "      <td>1</td>\n",
       "      <td>1</td>\n",
       "      <td>0</td>\n",
       "    </tr>\n",
       "    <tr>\n",
       "      <th>...</th>\n",
       "      <td>...</td>\n",
       "      <td>...</td>\n",
       "      <td>...</td>\n",
       "      <td>...</td>\n",
       "    </tr>\n",
       "    <tr>\n",
       "      <th>24597</th>\n",
       "      <td>? ok first of all ignore the last person' revi...</td>\n",
       "      <td>1</td>\n",
       "      <td>0</td>\n",
       "      <td>0</td>\n",
       "    </tr>\n",
       "    <tr>\n",
       "      <th>24602</th>\n",
       "      <td>? kay pollack the man behind this movie is a r...</td>\n",
       "      <td>1</td>\n",
       "      <td>0</td>\n",
       "      <td>0</td>\n",
       "    </tr>\n",
       "    <tr>\n",
       "      <th>24646</th>\n",
       "      <td>? and all through the house is a special crypt...</td>\n",
       "      <td>1</td>\n",
       "      <td>1</td>\n",
       "      <td>0</td>\n",
       "    </tr>\n",
       "    <tr>\n",
       "      <th>24665</th>\n",
       "      <td>? i have no idea what people are complaining a...</td>\n",
       "      <td>1</td>\n",
       "      <td>0</td>\n",
       "      <td>0</td>\n",
       "    </tr>\n",
       "    <tr>\n",
       "      <th>24666</th>\n",
       "      <td>? i found this episode to be one of funniest i...</td>\n",
       "      <td>1</td>\n",
       "      <td>1</td>\n",
       "      <td>0</td>\n",
       "    </tr>\n",
       "    <tr>\n",
       "      <th>24693</th>\n",
       "      <td>? first off i dislike almost all neil simon mo...</td>\n",
       "      <td>1</td>\n",
       "      <td>1</td>\n",
       "      <td>0</td>\n",
       "    </tr>\n",
       "    <tr>\n",
       "      <th>24714</th>\n",
       "      <td>? i think that people are under estimating thi...</td>\n",
       "      <td>1</td>\n",
       "      <td>0</td>\n",
       "      <td>0</td>\n",
       "    </tr>\n",
       "    <tr>\n",
       "      <th>24729</th>\n",
       "      <td>? i saw this movie in 1976 my first year of li...</td>\n",
       "      <td>1</td>\n",
       "      <td>1</td>\n",
       "      <td>0</td>\n",
       "    </tr>\n",
       "    <tr>\n",
       "      <th>24734</th>\n",
       "      <td>? i thought i should qualify my position after...</td>\n",
       "      <td>1</td>\n",
       "      <td>0</td>\n",
       "      <td>0</td>\n",
       "    </tr>\n",
       "    <tr>\n",
       "      <th>24748</th>\n",
       "      <td>? this movie is really funny the general is ke...</td>\n",
       "      <td>1</td>\n",
       "      <td>1</td>\n",
       "      <td>0</td>\n",
       "    </tr>\n",
       "    <tr>\n",
       "      <th>24754</th>\n",
       "      <td>? kate beckinsale is as good if not better tha...</td>\n",
       "      <td>1</td>\n",
       "      <td>1</td>\n",
       "      <td>0</td>\n",
       "    </tr>\n",
       "    <tr>\n",
       "      <th>24757</th>\n",
       "      <td>? this movie was one of the funniest movie i'v...</td>\n",
       "      <td>1</td>\n",
       "      <td>1</td>\n",
       "      <td>0</td>\n",
       "    </tr>\n",
       "    <tr>\n",
       "      <th>24787</th>\n",
       "      <td>? i watched this movie 11 years ago in company...</td>\n",
       "      <td>1</td>\n",
       "      <td>1</td>\n",
       "      <td>0</td>\n",
       "    </tr>\n",
       "    <tr>\n",
       "      <th>24789</th>\n",
       "      <td>? this is definitely one of the best movies i'...</td>\n",
       "      <td>1</td>\n",
       "      <td>1</td>\n",
       "      <td>0</td>\n",
       "    </tr>\n",
       "    <tr>\n",
       "      <th>24808</th>\n",
       "      <td>? i was really excited about seeing this film ...</td>\n",
       "      <td>1</td>\n",
       "      <td>0</td>\n",
       "      <td>0</td>\n",
       "    </tr>\n",
       "    <tr>\n",
       "      <th>24810</th>\n",
       "      <td>? dude really where have you guys been the pas...</td>\n",
       "      <td>0</td>\n",
       "      <td>0</td>\n",
       "      <td>1</td>\n",
       "    </tr>\n",
       "    <tr>\n",
       "      <th>24851</th>\n",
       "      <td>? hi i consider just cause one of my favorite ...</td>\n",
       "      <td>1</td>\n",
       "      <td>1</td>\n",
       "      <td>0</td>\n",
       "    </tr>\n",
       "    <tr>\n",
       "      <th>24852</th>\n",
       "      <td>? i cannot say this movie is a disappointment ...</td>\n",
       "      <td>1</td>\n",
       "      <td>1</td>\n",
       "      <td>0</td>\n",
       "    </tr>\n",
       "    <tr>\n",
       "      <th>24861</th>\n",
       "      <td>? wow this was another good spin off of the or...</td>\n",
       "      <td>1</td>\n",
       "      <td>0</td>\n",
       "      <td>0</td>\n",
       "    </tr>\n",
       "    <tr>\n",
       "      <th>24872</th>\n",
       "      <td>? i saw this movie with my dad i must have bee...</td>\n",
       "      <td>1</td>\n",
       "      <td>0</td>\n",
       "      <td>0</td>\n",
       "    </tr>\n",
       "    <tr>\n",
       "      <th>24889</th>\n",
       "      <td>? i miss dark angel br br i understand not eve...</td>\n",
       "      <td>1</td>\n",
       "      <td>0</td>\n",
       "      <td>0</td>\n",
       "    </tr>\n",
       "    <tr>\n",
       "      <th>24891</th>\n",
       "      <td>? i'm glad that users as of this date who like...</td>\n",
       "      <td>1</td>\n",
       "      <td>0</td>\n",
       "      <td>0</td>\n",
       "    </tr>\n",
       "    <tr>\n",
       "      <th>24913</th>\n",
       "      <td>? if you are a crispin glover fan you must see...</td>\n",
       "      <td>1</td>\n",
       "      <td>0</td>\n",
       "      <td>0</td>\n",
       "    </tr>\n",
       "    <tr>\n",
       "      <th>24915</th>\n",
       "      <td>? was the script more fitting for a 30 minute ...</td>\n",
       "      <td>1</td>\n",
       "      <td>0</td>\n",
       "      <td>0</td>\n",
       "    </tr>\n",
       "    <tr>\n",
       "      <th>24947</th>\n",
       "      <td>? stupid stupid stupid i think that angelina j...</td>\n",
       "      <td>1</td>\n",
       "      <td>0</td>\n",
       "      <td>0</td>\n",
       "    </tr>\n",
       "    <tr>\n",
       "      <th>24953</th>\n",
       "      <td>? this is one of the best movies i've ever see...</td>\n",
       "      <td>1</td>\n",
       "      <td>1</td>\n",
       "      <td>0</td>\n",
       "    </tr>\n",
       "    <tr>\n",
       "      <th>24974</th>\n",
       "      <td>? i saw this movie in the first couple of week...</td>\n",
       "      <td>1</td>\n",
       "      <td>0</td>\n",
       "      <td>0</td>\n",
       "    </tr>\n",
       "    <tr>\n",
       "      <th>24983</th>\n",
       "      <td>? von trier once explained how he created such...</td>\n",
       "      <td>1</td>\n",
       "      <td>1</td>\n",
       "      <td>0</td>\n",
       "    </tr>\n",
       "    <tr>\n",
       "      <th>24990</th>\n",
       "      <td>? it's nice to see a film with real people wit...</td>\n",
       "      <td>1</td>\n",
       "      <td>1</td>\n",
       "      <td>0</td>\n",
       "    </tr>\n",
       "    <tr>\n",
       "      <th>24993</th>\n",
       "      <td>? this movie is best described or compare to b...</td>\n",
       "      <td>1</td>\n",
       "      <td>1</td>\n",
       "      <td>0</td>\n",
       "    </tr>\n",
       "  </tbody>\n",
       "</table>\n",
       "<p>1494 rows × 4 columns</p>\n",
       "</div>"
      ],
      "text/plain": [
       "                                                sentence  label  \\\n",
       "0      ? this film was just brilliant casting locatio...      1   \n",
       "22     ? i hate reading reviews that say something li...      1   \n",
       "28     ? bela lugosi appeared in several of these low...      1   \n",
       "58     ? i watched the movie in a preview and i reall...      1   \n",
       "64     ? i'm probably one of the biggest nancy drew f...      1   \n",
       "97     ? not that much things happen in this movie bu...      1   \n",
       "118    ? a series of shorts spoofing dumb tv shows gr...      1   \n",
       "123    ? beautiful and touching movie rich colors gre...      1   \n",
       "142    ? while i would say i enjoy the show i expecte...      1   \n",
       "143    ? i myself am a kid at heart meaning i love wa...      1   \n",
       "144    ? writer director co star adam jones is headed...      1   \n",
       "145    ? this movie is simply wonderful it's got it a...      1   \n",
       "154    ? in order to stop her homosexual friend alber...      1   \n",
       "163    ? i thought it was pretty interesting my socia...      1   \n",
       "185    ? anyone who doesn't think bill and ted's bogu...      1   \n",
       "245    ? i love this show as it action packed with ad...      1   \n",
       "258    ? this is my first comment this is a fantastic...      1   \n",
       "269    ? the documentary presents an original theory ...      1   \n",
       "275    ? i grew up watching this movie and i still lo...      1   \n",
       "320    ? i think that this film is brilliant there ar...      1   \n",
       "330    ? ah ritchie's made another gangster film with...      1   \n",
       "339    ? ernest borgnine was so wasted in this movie ...      1   \n",
       "346    ? i rented this movie on dvd without knowing w...      1   \n",
       "349    ? i just don't understand why this movie is ge...      1   \n",
       "368    ? normally i don't like series at all they're ...      1   \n",
       "382    ? i give this film it's props that it is very ...      0   \n",
       "396    ? this movie was incredible i would recommend ...      1   \n",
       "402    ? being the first feature film with robert de ...      1   \n",
       "416    ? i really enjoyed girl fight it something i c...      1   \n",
       "439    ? my mother and i were on our way home from a ...      1   \n",
       "...                                                  ...    ...   \n",
       "24597  ? ok first of all ignore the last person' revi...      1   \n",
       "24602  ? kay pollack the man behind this movie is a r...      1   \n",
       "24646  ? and all through the house is a special crypt...      1   \n",
       "24665  ? i have no idea what people are complaining a...      1   \n",
       "24666  ? i found this episode to be one of funniest i...      1   \n",
       "24693  ? first off i dislike almost all neil simon mo...      1   \n",
       "24714  ? i think that people are under estimating thi...      1   \n",
       "24729  ? i saw this movie in 1976 my first year of li...      1   \n",
       "24734  ? i thought i should qualify my position after...      1   \n",
       "24748  ? this movie is really funny the general is ke...      1   \n",
       "24754  ? kate beckinsale is as good if not better tha...      1   \n",
       "24757  ? this movie was one of the funniest movie i'v...      1   \n",
       "24787  ? i watched this movie 11 years ago in company...      1   \n",
       "24789  ? this is definitely one of the best movies i'...      1   \n",
       "24808  ? i was really excited about seeing this film ...      1   \n",
       "24810  ? dude really where have you guys been the pas...      0   \n",
       "24851  ? hi i consider just cause one of my favorite ...      1   \n",
       "24852  ? i cannot say this movie is a disappointment ...      1   \n",
       "24861  ? wow this was another good spin off of the or...      1   \n",
       "24872  ? i saw this movie with my dad i must have bee...      1   \n",
       "24889  ? i miss dark angel br br i understand not eve...      1   \n",
       "24891  ? i'm glad that users as of this date who like...      1   \n",
       "24913  ? if you are a crispin glover fan you must see...      1   \n",
       "24915  ? was the script more fitting for a 30 minute ...      1   \n",
       "24947  ? stupid stupid stupid i think that angelina j...      1   \n",
       "24953  ? this is one of the best movies i've ever see...      1   \n",
       "24974  ? i saw this movie in the first couple of week...      1   \n",
       "24983  ? von trier once explained how he created such...      1   \n",
       "24990  ? it's nice to see a film with real people wit...      1   \n",
       "24993  ? this movie is best described or compare to b...      1   \n",
       "\n",
       "       prediction_counts  prediction_tfidf  \n",
       "0                      1                 0  \n",
       "22                     0                 0  \n",
       "28                     0                 0  \n",
       "58                     1                 0  \n",
       "64                     1                 0  \n",
       "97                     0                 0  \n",
       "118                    0                 0  \n",
       "123                    1                 0  \n",
       "142                    1                 0  \n",
       "143                    1                 0  \n",
       "144                    1                 0  \n",
       "145                    1                 0  \n",
       "154                    1                 0  \n",
       "163                    0                 0  \n",
       "185                    1                 0  \n",
       "245                    1                 0  \n",
       "258                    1                 0  \n",
       "269                    1                 0  \n",
       "275                    1                 0  \n",
       "320                    1                 0  \n",
       "330                    1                 0  \n",
       "339                    0                 0  \n",
       "346                    0                 0  \n",
       "349                    0                 0  \n",
       "368                    1                 0  \n",
       "382                    0                 1  \n",
       "396                    1                 0  \n",
       "402                    1                 0  \n",
       "416                    1                 0  \n",
       "439                    1                 0  \n",
       "...                  ...               ...  \n",
       "24597                  0                 0  \n",
       "24602                  0                 0  \n",
       "24646                  1                 0  \n",
       "24665                  0                 0  \n",
       "24666                  1                 0  \n",
       "24693                  1                 0  \n",
       "24714                  0                 0  \n",
       "24729                  1                 0  \n",
       "24734                  0                 0  \n",
       "24748                  1                 0  \n",
       "24754                  1                 0  \n",
       "24757                  1                 0  \n",
       "24787                  1                 0  \n",
       "24789                  1                 0  \n",
       "24808                  0                 0  \n",
       "24810                  0                 1  \n",
       "24851                  1                 0  \n",
       "24852                  1                 0  \n",
       "24861                  0                 0  \n",
       "24872                  0                 0  \n",
       "24889                  0                 0  \n",
       "24891                  0                 0  \n",
       "24913                  0                 0  \n",
       "24915                  0                 0  \n",
       "24947                  0                 0  \n",
       "24953                  1                 0  \n",
       "24974                  0                 0  \n",
       "24983                  1                 0  \n",
       "24990                  1                 0  \n",
       "24993                  1                 0  \n",
       "\n",
       "[1494 rows x 4 columns]"
      ]
     },
     "execution_count": 34,
     "metadata": {},
     "output_type": "execute_result"
    }
   ],
   "source": [
    "data['prediction_counts'] = NB_counts.predict(most_frequent_words_sw['data_counts'])\n",
    "data['prediction_tfidf'] = NB_tfidf.predict(tf_idf_transf.toarray())\n",
    "data[data['prediction_tfidf'] != data['label']]"
   ]
  },
  {
   "cell_type": "code",
   "execution_count": 41,
   "metadata": {},
   "outputs": [
    {
     "data": {
      "text/plain": [
       "0.8652"
      ]
     },
     "execution_count": 41,
     "metadata": {},
     "output_type": "execute_result"
    }
   ],
   "source": [
    "NB_logistic = SGDClassifier(loss='hinge', penalty='l2',\\\n",
    "                            alpha=1e-3, random_state=42,\\\n",
    "                            max_iter=5, tol=None)                        # création d'objet pour classificateur SGD\n",
    "logistic_fit = NB_logistic.fit(X=tf_idf_transf.toarray(),y=data['label'])# ajustement du modèle sur les données\n",
    "accuracy_score(NB_logistic.predict(tf_idf_transf.toarray()),data['label'])# prédire et vérification de la précision(accuracy)"
   ]
  },
  {
   "cell_type": "markdown",
   "metadata": {},
   "source": [
    "Le score de pécision de SGD classifieur est de 86,5% , cela prouve que le classifieur NB gaussien est meilleur"
   ]
  },
  {
   "cell_type": "code",
   "execution_count": 42,
   "metadata": {},
   "outputs": [
    {
     "name": "stdout",
     "output_type": "stream",
     "text": [
      "Mots avec le coeff le plus négatif :  bad\n",
      "Mots avec le coeff le plus positif :  great\n"
     ]
    }
   ],
   "source": [
    "print(\"Mots avec le coeff le plus négatif : \", most_frequent_words_sw['dictionary'][np.argsort(NB_logistic.coef_)[0][0]])\n",
    "print(\"Mots avec le coeff le plus positif : \", most_frequent_words_sw['dictionary'][np.argsort(NB_logistic.coef_)[0][-1]])"
   ]
  },
  {
   "cell_type": "markdown",
   "metadata": {},
   "source": [
    "On a bien obtenu le résultat du mot le plus négatif 'bad' et 'great' pour le mot plus positif"
   ]
  },
  {
   "cell_type": "markdown",
   "metadata": {},
   "source": [
    "## LDA"
   ]
  },
  {
   "cell_type": "code",
   "execution_count": 15,
   "metadata": {},
   "outputs": [
    {
     "ename": "ValueError",
     "evalue": "Too large work array required -- computation cannot be performed with standard 32-bit LAPACK.",
     "output_type": "error",
     "traceback": [
      "\u001b[0;31m---------------------------------------------------------------------------\u001b[0m",
      "\u001b[0;31mValueError\u001b[0m                                Traceback (most recent call last)",
      "\u001b[0;32m<ipython-input-15-c576abbd9e20>\u001b[0m in \u001b[0;36m<module>\u001b[0;34m\u001b[0m\n\u001b[1;32m      3\u001b[0m \u001b[0;34m\u001b[0m\u001b[0m\n\u001b[1;32m      4\u001b[0m \u001b[0mlda_clf\u001b[0m \u001b[0;34m=\u001b[0m \u001b[0mLDA\u001b[0m\u001b[0;34m(\u001b[0m\u001b[0;34m)\u001b[0m\u001b[0;34m\u001b[0m\u001b[0;34m\u001b[0m\u001b[0m\n\u001b[0;32m----> 5\u001b[0;31m \u001b[0mlda_fit\u001b[0m\u001b[0;34m=\u001b[0m \u001b[0mlda_clf\u001b[0m\u001b[0;34m.\u001b[0m\u001b[0mfit\u001b[0m\u001b[0;34m(\u001b[0m\u001b[0mX\u001b[0m\u001b[0;34m=\u001b[0m\u001b[0mtf_idf_transf\u001b[0m\u001b[0;34m.\u001b[0m\u001b[0mtoarray\u001b[0m\u001b[0;34m(\u001b[0m\u001b[0;34m)\u001b[0m\u001b[0;34m,\u001b[0m\u001b[0my\u001b[0m\u001b[0;34m=\u001b[0m\u001b[0mdata\u001b[0m\u001b[0;34m[\u001b[0m\u001b[0;34m'label'\u001b[0m\u001b[0;34m]\u001b[0m\u001b[0;34m)\u001b[0m\u001b[0;34m\u001b[0m\u001b[0;34m\u001b[0m\u001b[0m\n\u001b[0m\u001b[1;32m      6\u001b[0m \u001b[0;34m\u001b[0m\u001b[0m\n\u001b[1;32m      7\u001b[0m \u001b[0maccuracy_score\u001b[0m\u001b[0;34m(\u001b[0m\u001b[0mlda_clf\u001b[0m\u001b[0;34m.\u001b[0m\u001b[0mpredict\u001b[0m\u001b[0;34m(\u001b[0m\u001b[0mtf_idf_transf\u001b[0m\u001b[0;34m.\u001b[0m\u001b[0mtoarray\u001b[0m\u001b[0;34m(\u001b[0m\u001b[0;34m)\u001b[0m\u001b[0;34m)\u001b[0m\u001b[0;34m,\u001b[0m\u001b[0mdata\u001b[0m\u001b[0;34m[\u001b[0m\u001b[0;34m'label'\u001b[0m\u001b[0;34m]\u001b[0m\u001b[0;34m)\u001b[0m\u001b[0;34m\u001b[0m\u001b[0;34m\u001b[0m\u001b[0m\n",
      "\u001b[0;32m/miniconda3/lib/python3.6/site-packages/sklearn/discriminant_analysis.py\u001b[0m in \u001b[0;36mfit\u001b[0;34m(self, X, y)\u001b[0m\n\u001b[1;32m    459\u001b[0m             \u001b[0;32mif\u001b[0m \u001b[0mself\u001b[0m\u001b[0;34m.\u001b[0m\u001b[0mshrinkage\u001b[0m \u001b[0;32mis\u001b[0m \u001b[0;32mnot\u001b[0m \u001b[0;32mNone\u001b[0m\u001b[0;34m:\u001b[0m\u001b[0;34m\u001b[0m\u001b[0;34m\u001b[0m\u001b[0m\n\u001b[1;32m    460\u001b[0m                 \u001b[0;32mraise\u001b[0m \u001b[0mNotImplementedError\u001b[0m\u001b[0;34m(\u001b[0m\u001b[0;34m'shrinkage not supported'\u001b[0m\u001b[0;34m)\u001b[0m\u001b[0;34m\u001b[0m\u001b[0;34m\u001b[0m\u001b[0m\n\u001b[0;32m--> 461\u001b[0;31m             \u001b[0mself\u001b[0m\u001b[0;34m.\u001b[0m\u001b[0m_solve_svd\u001b[0m\u001b[0;34m(\u001b[0m\u001b[0mX\u001b[0m\u001b[0;34m,\u001b[0m \u001b[0my\u001b[0m\u001b[0;34m)\u001b[0m\u001b[0;34m\u001b[0m\u001b[0;34m\u001b[0m\u001b[0m\n\u001b[0m\u001b[1;32m    462\u001b[0m         \u001b[0;32melif\u001b[0m \u001b[0mself\u001b[0m\u001b[0;34m.\u001b[0m\u001b[0msolver\u001b[0m \u001b[0;34m==\u001b[0m \u001b[0;34m'lsqr'\u001b[0m\u001b[0;34m:\u001b[0m\u001b[0;34m\u001b[0m\u001b[0;34m\u001b[0m\u001b[0m\n\u001b[1;32m    463\u001b[0m             \u001b[0mself\u001b[0m\u001b[0;34m.\u001b[0m\u001b[0m_solve_lsqr\u001b[0m\u001b[0;34m(\u001b[0m\u001b[0mX\u001b[0m\u001b[0;34m,\u001b[0m \u001b[0my\u001b[0m\u001b[0;34m,\u001b[0m \u001b[0mshrinkage\u001b[0m\u001b[0;34m=\u001b[0m\u001b[0mself\u001b[0m\u001b[0;34m.\u001b[0m\u001b[0mshrinkage\u001b[0m\u001b[0;34m)\u001b[0m\u001b[0;34m\u001b[0m\u001b[0;34m\u001b[0m\u001b[0m\n",
      "\u001b[0;32m/miniconda3/lib/python3.6/site-packages/sklearn/discriminant_analysis.py\u001b[0m in \u001b[0;36m_solve_svd\u001b[0;34m(self, X, y)\u001b[0m\n\u001b[1;32m    382\u001b[0m         \u001b[0mX\u001b[0m \u001b[0;34m=\u001b[0m \u001b[0mnp\u001b[0m\u001b[0;34m.\u001b[0m\u001b[0msqrt\u001b[0m\u001b[0;34m(\u001b[0m\u001b[0mfac\u001b[0m\u001b[0;34m)\u001b[0m \u001b[0;34m*\u001b[0m \u001b[0;34m(\u001b[0m\u001b[0mXc\u001b[0m \u001b[0;34m/\u001b[0m \u001b[0mstd\u001b[0m\u001b[0;34m)\u001b[0m\u001b[0;34m\u001b[0m\u001b[0;34m\u001b[0m\u001b[0m\n\u001b[1;32m    383\u001b[0m         \u001b[0;31m# SVD of centered (within)scaled data\u001b[0m\u001b[0;34m\u001b[0m\u001b[0;34m\u001b[0m\u001b[0;34m\u001b[0m\u001b[0m\n\u001b[0;32m--> 384\u001b[0;31m         \u001b[0mU\u001b[0m\u001b[0;34m,\u001b[0m \u001b[0mS\u001b[0m\u001b[0;34m,\u001b[0m \u001b[0mV\u001b[0m \u001b[0;34m=\u001b[0m \u001b[0mlinalg\u001b[0m\u001b[0;34m.\u001b[0m\u001b[0msvd\u001b[0m\u001b[0;34m(\u001b[0m\u001b[0mX\u001b[0m\u001b[0;34m,\u001b[0m \u001b[0mfull_matrices\u001b[0m\u001b[0;34m=\u001b[0m\u001b[0;32mFalse\u001b[0m\u001b[0;34m)\u001b[0m\u001b[0;34m\u001b[0m\u001b[0;34m\u001b[0m\u001b[0m\n\u001b[0m\u001b[1;32m    385\u001b[0m \u001b[0;34m\u001b[0m\u001b[0m\n\u001b[1;32m    386\u001b[0m         \u001b[0mrank\u001b[0m \u001b[0;34m=\u001b[0m \u001b[0mnp\u001b[0m\u001b[0;34m.\u001b[0m\u001b[0msum\u001b[0m\u001b[0;34m(\u001b[0m\u001b[0mS\u001b[0m \u001b[0;34m>\u001b[0m \u001b[0mself\u001b[0m\u001b[0;34m.\u001b[0m\u001b[0mtol\u001b[0m\u001b[0;34m)\u001b[0m\u001b[0;34m\u001b[0m\u001b[0;34m\u001b[0m\u001b[0m\n",
      "\u001b[0;32m/miniconda3/lib/python3.6/site-packages/scipy/linalg/decomp_svd.py\u001b[0m in \u001b[0;36msvd\u001b[0;34m(a, full_matrices, compute_uv, overwrite_a, check_finite, lapack_driver)\u001b[0m\n\u001b[1;32m    123\u001b[0m     \u001b[0;31m# compute optimal lwork\u001b[0m\u001b[0;34m\u001b[0m\u001b[0;34m\u001b[0m\u001b[0;34m\u001b[0m\u001b[0m\n\u001b[1;32m    124\u001b[0m     lwork = _compute_lwork(gesXd_lwork, a1.shape[0], a1.shape[1],\n\u001b[0;32m--> 125\u001b[0;31m                            compute_uv=compute_uv, full_matrices=full_matrices)\n\u001b[0m\u001b[1;32m    126\u001b[0m \u001b[0;34m\u001b[0m\u001b[0m\n\u001b[1;32m    127\u001b[0m     \u001b[0;31m# perform decomposition\u001b[0m\u001b[0;34m\u001b[0m\u001b[0;34m\u001b[0m\u001b[0;34m\u001b[0m\u001b[0m\n",
      "\u001b[0;32m/miniconda3/lib/python3.6/site-packages/scipy/linalg/lapack.py\u001b[0m in \u001b[0;36m_compute_lwork\u001b[0;34m(routine, *args, **kwargs)\u001b[0m\n\u001b[1;32m    710\u001b[0m     \u001b[0mlwork\u001b[0m \u001b[0;34m=\u001b[0m \u001b[0m_np\u001b[0m\u001b[0;34m.\u001b[0m\u001b[0marray\u001b[0m\u001b[0;34m(\u001b[0m\u001b[0mlwork\u001b[0m\u001b[0;34m,\u001b[0m \u001b[0m_np\u001b[0m\u001b[0;34m.\u001b[0m\u001b[0mint64\u001b[0m\u001b[0;34m)\u001b[0m\u001b[0;34m\u001b[0m\u001b[0;34m\u001b[0m\u001b[0m\n\u001b[1;32m    711\u001b[0m     \u001b[0;32mif\u001b[0m \u001b[0m_np\u001b[0m\u001b[0;34m.\u001b[0m\u001b[0many\u001b[0m\u001b[0;34m(\u001b[0m\u001b[0m_np\u001b[0m\u001b[0;34m.\u001b[0m\u001b[0mlogical_or\u001b[0m\u001b[0;34m(\u001b[0m\u001b[0mlwork\u001b[0m \u001b[0;34m<\u001b[0m \u001b[0;36m0\u001b[0m\u001b[0;34m,\u001b[0m \u001b[0mlwork\u001b[0m \u001b[0;34m>\u001b[0m \u001b[0m_np\u001b[0m\u001b[0;34m.\u001b[0m\u001b[0miinfo\u001b[0m\u001b[0;34m(\u001b[0m\u001b[0m_np\u001b[0m\u001b[0;34m.\u001b[0m\u001b[0mint32\u001b[0m\u001b[0;34m)\u001b[0m\u001b[0;34m.\u001b[0m\u001b[0mmax\u001b[0m\u001b[0;34m)\u001b[0m\u001b[0;34m)\u001b[0m\u001b[0;34m:\u001b[0m\u001b[0;34m\u001b[0m\u001b[0;34m\u001b[0m\u001b[0m\n\u001b[0;32m--> 712\u001b[0;31m         raise ValueError(\"Too large work array required -- computation cannot \"\n\u001b[0m\u001b[1;32m    713\u001b[0m                          \"be performed with standard 32-bit LAPACK.\")\n\u001b[1;32m    714\u001b[0m     \u001b[0mlwork\u001b[0m \u001b[0;34m=\u001b[0m \u001b[0mlwork\u001b[0m\u001b[0;34m.\u001b[0m\u001b[0mastype\u001b[0m\u001b[0;34m(\u001b[0m\u001b[0m_np\u001b[0m\u001b[0;34m.\u001b[0m\u001b[0mint32\u001b[0m\u001b[0;34m)\u001b[0m\u001b[0;34m\u001b[0m\u001b[0;34m\u001b[0m\u001b[0m\n",
      "\u001b[0;31mValueError\u001b[0m: Too large work array required -- computation cannot be performed with standard 32-bit LAPACK."
     ]
    }
   ],
   "source": [
    "#from sklearn.lda import LDA\n",
    "from sklearn.discriminant_analysis import LinearDiscriminantAnalysis as LDA\n",
    "\n",
    "lda_clf = LDA()\n",
    "lda_fit= lda_clf.fit(X=tf_idf_transf.toarray(),y=data['label'])\n",
    "\n",
    "accuracy_score(lda_clf.predict(tf_idf_transf.toarray()),data['label'])\n",
    "\n",
    "# le code of correct, mais il affiche une erreur de memoire. ( Lda & Qda & KNN)"
   ]
  },
  {
   "cell_type": "markdown",
   "metadata": {},
   "source": [
    "## QDA"
   ]
  },
  {
   "cell_type": "code",
   "execution_count": 9,
   "metadata": {},
   "outputs": [],
   "source": [
    "#from sklearn.qda import QDA\n",
    "from sklearn.discriminant_analysis import QuadraticDiscriminantAnalysis as LDA\n",
    "qda_clf = LDA()\n",
    "qda_fit= lda_clf.fit(X=tf_idf_transf.toarray(),y=data['label'])\n",
    "accuracy_score(qda_clf.predict(tf_idf_transf.toarray()),data['label'])"
   ]
  },
  {
   "cell_type": "markdown",
   "metadata": {},
   "source": [
    "## KNN"
   ]
  },
  {
   "cell_type": "code",
   "execution_count": null,
   "metadata": {},
   "outputs": [],
   "source": [
    "from sklearn.neighbors import KNeighborsClassifier\n",
    "knn_clf = KNeighborsClassifier(n_neighbors=3)\n",
    "\n",
    "knn_fit= knn_clf.fit(X=tf_idf_transf.toarray(),y=data['label'])\n",
    "accuracy_score(knn_clf.predict(tf_idf_transf.toarray()),data['label'])\n"
   ]
  },
  {
   "cell_type": "markdown",
   "metadata": {},
   "source": [
    "### Avec une pipeline"
   ]
  },
  {
   "cell_type": "code",
   "execution_count": 31,
   "metadata": {},
   "outputs": [],
   "source": [
    "from sklearn.pipeline import Pipeline\n",
    "text_clf = Pipeline([('vect', CountVectorizer()), ('tfidf', TfidfTransformer()), ('clf', SGDClassifier(loss='hinge', penalty='l2',\\\n",
    "                           alpha=1e-3, random_state=42,\\\n",
    "                           max_iter=5, tol=None)),])"
   ]
  },
  {
   "cell_type": "code",
   "execution_count": 38,
   "metadata": {},
   "outputs": [
    {
     "data": {
      "text/plain": [
       "0.85772"
      ]
     },
     "execution_count": 38,
     "metadata": {},
     "output_type": "execute_result"
    }
   ],
   "source": [
    "text_clf.fit(X,data['label'])#\n",
    "accuracy_score(text_clf.predict(X),data['label'])"
   ]
  },
  {
   "cell_type": "markdown",
   "metadata": {},
   "source": [
    "Le pourcentage de pécision pour Pipeline est de 86% qui reste inférieure que celle du classifieur Gaussien NB"
   ]
  },
  {
   "cell_type": "markdown",
   "metadata": {},
   "source": [
    "On a chargé le review imdb dataset de keras, après on a converti le texte à l'aide de la représentation vectorielle tf-tdi afin de pouvoir saisir ces données dans des algorithmes de ML et les classer en positif et négatif.\n",
    "Avec ces algorithmes, on a pu trouvé le mot le plus négatif 'bad' et le mot le plus positif 'great'"
   ]
  }
 ],
 "metadata": {
  "kernelspec": {
   "display_name": "Python 3",
   "language": "python",
   "name": "python3"
  },
  "language_info": {
   "codemirror_mode": {
    "name": "ipython",
    "version": 3
   },
   "file_extension": ".py",
   "mimetype": "text/x-python",
   "name": "python",
   "nbconvert_exporter": "python",
   "pygments_lexer": "ipython3",
   "version": "3.6.8"
  }
 },
 "nbformat": 4,
 "nbformat_minor": 2
}
